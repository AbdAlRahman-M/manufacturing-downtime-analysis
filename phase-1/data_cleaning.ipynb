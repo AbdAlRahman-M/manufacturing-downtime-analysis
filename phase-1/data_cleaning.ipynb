{
 "cells": [
  {
   "cell_type": "markdown",
   "id": "723e3134-4b90-4915-b5e1-f3da59328aa8",
   "metadata": {},
   "source": [
    "# Manufacturing Downtime Analysis: Data Cleaning Notebook"
   ]
  },
  {
   "cell_type": "markdown",
   "id": "d95767f5-0ebd-4d28-a408-0d367d3208d4",
   "metadata": {},
   "source": [
    "**This notebook goes over each table in the project's dataset and checks for:**\n",
    "- missing values\n",
    "- duplicate records"
   ]
  },
  {
   "cell_type": "markdown",
   "id": "5d918591-8cf5-489b-b4d8-a396d485aed4",
   "metadata": {},
   "source": [
    "## Imoprt Packages and Load Data"
   ]
  },
  {
   "cell_type": "code",
   "execution_count": 1,
   "id": "351c1df9-da7f-4df6-9d78-a2cc1e1ecdf9",
   "metadata": {},
   "outputs": [],
   "source": [
    "import pandas as pd\n",
    "import numpy as np"
   ]
  },
  {
   "cell_type": "code",
   "execution_count": 2,
   "id": "404a9204-3da5-4f80-9cbb-1a64c15c3962",
   "metadata": {},
   "outputs": [],
   "source": [
    "source = \"./clean_data.xlsx\"\n",
    "\n",
    "line_prod = pd.read_excel(source,sheet_name=\"Line_productivity\")\n",
    "products = pd.read_excel(source, sheet_name=\"Products\")\n",
    "products_details = pd.read_excel(source, sheet_name=\"Product_details\")\n",
    "Downtime_fact = pd.read_excel(source, sheet_name=\"Downtime_factors\")\n",
    "Line_downtime = pd.read_excel(source, sheet_name=\"Line_downtime\")\n",
    "Calender = pd.read_excel(source, sheet_name=\"Calender\")"
   ]
  },
  {
   "cell_type": "markdown",
   "id": "f538b26b-62f3-40ad-a357-97d0d41d80b2",
   "metadata": {},
   "source": [
    "## Line Productivity"
   ]
  },
  {
   "cell_type": "code",
   "execution_count": 3,
   "id": "3adfc155-8121-41b4-bd7f-85e0ab52efc0",
   "metadata": {},
   "outputs": [
    {
     "name": "stdout",
     "output_type": "stream",
     "text": [
      "<class 'pandas.core.frame.DataFrame'>\n",
      "RangeIndex: 38 entries, 0 to 37\n",
      "Data columns (total 6 columns):\n",
      " #   Column      Non-Null Count  Dtype         \n",
      "---  ------      --------------  -----         \n",
      " 0   Batch       38 non-null     int64         \n",
      " 1   Operator    38 non-null     object        \n",
      " 2   Date        38 non-null     datetime64[ns]\n",
      " 3   Start_Time  38 non-null     object        \n",
      " 4   End_Time    38 non-null     object        \n",
      " 5   Product     38 non-null     object        \n",
      "dtypes: datetime64[ns](1), int64(1), object(4)\n",
      "memory usage: 1.9+ KB\n"
     ]
    }
   ],
   "source": [
    "line_prod.info()"
   ]
  },
  {
   "cell_type": "code",
   "execution_count": 4,
   "id": "f9895f59-7ca2-48d8-aa98-610e020dfbe2",
   "metadata": {},
   "outputs": [
    {
     "data": {
      "text/plain": [
       "Batch         0\n",
       "Operator      0\n",
       "Date          0\n",
       "Start_Time    0\n",
       "End_Time      0\n",
       "Product       0\n",
       "dtype: int64"
      ]
     },
     "execution_count": 4,
     "metadata": {},
     "output_type": "execute_result"
    }
   ],
   "source": [
    "# Check for null values in each column\n",
    "line_prod.isnull().sum()"
   ]
  },
  {
   "cell_type": "code",
   "execution_count": 5,
   "id": "3352e55c-55c8-4787-8541-7709f7441a0e",
   "metadata": {},
   "outputs": [
    {
     "data": {
      "text/plain": [
       "38"
      ]
     },
     "execution_count": 5,
     "metadata": {},
     "output_type": "execute_result"
    }
   ],
   "source": [
    "# Count the number of unique batch IDs\n",
    "# The number of unique batch IDs should be equal to the number of rows in the data frame\n",
    "line_prod.Batch.nunique()"
   ]
  },
  {
   "cell_type": "code",
   "execution_count": 6,
   "id": "dbac3c56-821b-4737-821c-e1652fb72774",
   "metadata": {},
   "outputs": [
    {
     "data": {
      "text/plain": [
       "np.int64(0)"
      ]
     },
     "execution_count": 6,
     "metadata": {},
     "output_type": "execute_result"
    }
   ],
   "source": [
    "# Find the number of duplicate records\n",
    "line_prod.duplicated().sum()"
   ]
  },
  {
   "cell_type": "markdown",
   "id": "016ed532-68c4-4c0f-a885-cb6eb649d4d5",
   "metadata": {},
   "source": [
    "## Products"
   ]
  },
  {
   "cell_type": "code",
   "execution_count": 7,
   "id": "5514b06c-96ec-4d6d-8d36-3a3c21a4baca",
   "metadata": {},
   "outputs": [
    {
     "name": "stdout",
     "output_type": "stream",
     "text": [
      "<class 'pandas.core.frame.DataFrame'>\n",
      "RangeIndex: 6 entries, 0 to 5\n",
      "Data columns (total 3 columns):\n",
      " #   Column      Non-Null Count  Dtype \n",
      "---  ------      --------------  ----- \n",
      " 0   Product     6 non-null      object\n",
      " 1   Flavor      6 non-null      object\n",
      " 2   Size_In_ml  6 non-null      int64 \n",
      "dtypes: int64(1), object(2)\n",
      "memory usage: 276.0+ bytes\n"
     ]
    }
   ],
   "source": [
    "products.info()"
   ]
  },
  {
   "cell_type": "code",
   "execution_count": 8,
   "id": "1e9ffe61-011d-4810-a1c3-9c18532df380",
   "metadata": {},
   "outputs": [
    {
     "data": {
      "text/plain": [
       "6"
      ]
     },
     "execution_count": 8,
     "metadata": {},
     "output_type": "execute_result"
    }
   ],
   "source": [
    "# Count the number of unique product IDs\n",
    "# The count of unique product IDs should be equal to the number of rows in the data frame\n",
    "products.Product.nunique()"
   ]
  },
  {
   "cell_type": "code",
   "execution_count": 9,
   "id": "a26bb01a-d947-4e08-bf67-7aed8685e0dc",
   "metadata": {},
   "outputs": [
    {
     "data": {
      "text/plain": [
       "Product       0\n",
       "Flavor        0\n",
       "Size_In_ml    0\n",
       "dtype: int64"
      ]
     },
     "execution_count": 9,
     "metadata": {},
     "output_type": "execute_result"
    }
   ],
   "source": [
    "# Check for null values in each column\n",
    "products.isnull().sum()"
   ]
  },
  {
   "cell_type": "code",
   "execution_count": 10,
   "id": "b800a94f-3412-4b6b-a728-a409387e695d",
   "metadata": {},
   "outputs": [
    {
     "data": {
      "text/plain": [
       "np.int64(0)"
      ]
     },
     "execution_count": 10,
     "metadata": {},
     "output_type": "execute_result"
    }
   ],
   "source": [
    "# Find the number of duplicate records\n",
    "products.duplicated().sum()"
   ]
  },
  {
   "cell_type": "markdown",
   "id": "b9815d8e-394c-403d-9f24-a58b1603481a",
   "metadata": {},
   "source": [
    "## Products Details"
   ]
  },
  {
   "cell_type": "code",
   "execution_count": 11,
   "id": "34ee3fcc-9fc7-4b49-8c9e-183187b48682",
   "metadata": {},
   "outputs": [
    {
     "name": "stdout",
     "output_type": "stream",
     "text": [
      "<class 'pandas.core.frame.DataFrame'>\n",
      "RangeIndex: 2 entries, 0 to 1\n",
      "Data columns (total 2 columns):\n",
      " #   Column          Non-Null Count  Dtype\n",
      "---  ------          --------------  -----\n",
      " 0   Size            2 non-null      int64\n",
      " 1   Min_Batch_Time  2 non-null      int64\n",
      "dtypes: int64(2)\n",
      "memory usage: 164.0 bytes\n"
     ]
    }
   ],
   "source": [
    "products_details.info()"
   ]
  },
  {
   "cell_type": "code",
   "execution_count": 12,
   "id": "9b41722b-e8b0-4822-a5e4-9fa9ccbf530f",
   "metadata": {},
   "outputs": [
    {
     "data": {
      "text/plain": [
       "2"
      ]
     },
     "execution_count": 12,
     "metadata": {},
     "output_type": "execute_result"
    }
   ],
   "source": [
    "# Count the number of unique sizes\n",
    "# The count should be equal to the nubmer of rows in the data frame\n",
    "products_details.Size.nunique()"
   ]
  },
  {
   "cell_type": "code",
   "execution_count": 13,
   "id": "48c74c6f-8fc0-4673-8bb7-8f757f42a0f0",
   "metadata": {},
   "outputs": [
    {
     "data": {
      "text/plain": [
       "Size              0\n",
       "Min_Batch_Time    0\n",
       "dtype: int64"
      ]
     },
     "execution_count": 13,
     "metadata": {},
     "output_type": "execute_result"
    }
   ],
   "source": [
    "# Check for null values in each column\n",
    "products_details.isnull().sum()"
   ]
  },
  {
   "cell_type": "code",
   "execution_count": 14,
   "id": "612cf313-6e66-467a-9225-16209433ee84",
   "metadata": {},
   "outputs": [
    {
     "data": {
      "text/plain": [
       "np.int64(0)"
      ]
     },
     "execution_count": 14,
     "metadata": {},
     "output_type": "execute_result"
    }
   ],
   "source": [
    "# Find the number of duplicate records\n",
    "products_details.duplicated().sum()"
   ]
  },
  {
   "cell_type": "markdown",
   "id": "5a57ca75-2c11-4c92-accf-f36fb14ce86f",
   "metadata": {},
   "source": [
    "## Downtime Factors"
   ]
  },
  {
   "cell_type": "code",
   "execution_count": 15,
   "id": "8b8ca90e-c04b-4639-b9d2-5ed838d9d887",
   "metadata": {},
   "outputs": [
    {
     "name": "stdout",
     "output_type": "stream",
     "text": [
      "<class 'pandas.core.frame.DataFrame'>\n",
      "RangeIndex: 12 entries, 0 to 11\n",
      "Data columns (total 3 columns):\n",
      " #   Column          Non-Null Count  Dtype \n",
      "---  ------          --------------  ----- \n",
      " 0   Factor          12 non-null     int64 \n",
      " 1   Description     12 non-null     object\n",
      " 2   Operator_Error  12 non-null     object\n",
      "dtypes: int64(1), object(2)\n",
      "memory usage: 420.0+ bytes\n"
     ]
    }
   ],
   "source": [
    "Downtime_fact.info()"
   ]
  },
  {
   "cell_type": "code",
   "execution_count": 16,
   "id": "6aef55fe-6d3b-4922-8f77-0d90adfcd93d",
   "metadata": {},
   "outputs": [
    {
     "data": {
      "text/plain": [
       "12"
      ]
     },
     "execution_count": 16,
     "metadata": {},
     "output_type": "execute_result"
    }
   ],
   "source": [
    "# Count the number of unique factor IDs\n",
    "# The count should be equal to the nubmer of rows in the data frame\n",
    "Downtime_fact.Factor.nunique()"
   ]
  },
  {
   "cell_type": "code",
   "execution_count": 17,
   "id": "8f530e6d-2a3c-413b-b143-4bf1a60d9a67",
   "metadata": {},
   "outputs": [
    {
     "data": {
      "text/plain": [
       "Factor            0\n",
       "Description       0\n",
       "Operator_Error    0\n",
       "dtype: int64"
      ]
     },
     "execution_count": 17,
     "metadata": {},
     "output_type": "execute_result"
    }
   ],
   "source": [
    "# Check for null values in each column\n",
    "Downtime_fact.isnull().sum()"
   ]
  },
  {
   "cell_type": "code",
   "execution_count": 18,
   "id": "d1a13e4f-fdb3-4c1b-82fa-b367ea02cdf2",
   "metadata": {},
   "outputs": [
    {
     "data": {
      "text/plain": [
       "np.int64(0)"
      ]
     },
     "execution_count": 18,
     "metadata": {},
     "output_type": "execute_result"
    }
   ],
   "source": [
    "# Find the number of duplicate records\n",
    "Downtime_fact.duplicated().sum()"
   ]
  },
  {
   "cell_type": "markdown",
   "id": "17484c20-8083-4e99-b012-a2d3ee896528",
   "metadata": {},
   "source": [
    "## Line Downtime"
   ]
  },
  {
   "cell_type": "code",
   "execution_count": 19,
   "id": "5ab480b8-a466-499d-85b8-01c171d8e771",
   "metadata": {},
   "outputs": [
    {
     "name": "stdout",
     "output_type": "stream",
     "text": [
      "<class 'pandas.core.frame.DataFrame'>\n",
      "RangeIndex: 61 entries, 0 to 60\n",
      "Data columns (total 3 columns):\n",
      " #   Column   Non-Null Count  Dtype\n",
      "---  ------   --------------  -----\n",
      " 0   Batch    61 non-null     int64\n",
      " 1   Factor   61 non-null     int64\n",
      " 2   Minutes  61 non-null     int64\n",
      "dtypes: int64(3)\n",
      "memory usage: 1.6 KB\n"
     ]
    }
   ],
   "source": [
    "Line_downtime.info()"
   ]
  },
  {
   "cell_type": "code",
   "execution_count": 20,
   "id": "20d3f552-9a27-40c2-8436-edbcc83fb0d5",
   "metadata": {},
   "outputs": [
    {
     "data": {
      "text/plain": [
       "Batch     35\n",
       "Factor    11\n",
       "dtype: int64"
      ]
     },
     "execution_count": 20,
     "metadata": {},
     "output_type": "execute_result"
    }
   ],
   "source": [
    "Line_downtime[['Batch','Factor']].nunique()"
   ]
  },
  {
   "cell_type": "code",
   "execution_count": 21,
   "id": "c7675a42-fc6f-4dfe-abc8-b2cf208e3e6b",
   "metadata": {},
   "outputs": [
    {
     "data": {
      "text/plain": [
       "61"
      ]
     },
     "execution_count": 21,
     "metadata": {},
     "output_type": "execute_result"
    }
   ],
   "source": [
    "# Group data frame by batch and factor then count the groups\n",
    "# The count should be equal to the nubmer of rows in the data frame\n",
    "Line_downtime.groupby(['Batch', 'Factor']).ngroups"
   ]
  },
  {
   "cell_type": "code",
   "execution_count": 22,
   "id": "69dc424c-f9c3-40d9-9dc4-2be6d01a9530",
   "metadata": {},
   "outputs": [
    {
     "data": {
      "text/plain": [
       "Batch      0\n",
       "Factor     0\n",
       "Minutes    0\n",
       "dtype: int64"
      ]
     },
     "execution_count": 22,
     "metadata": {},
     "output_type": "execute_result"
    }
   ],
   "source": [
    "# Check for null values in each column\n",
    "Line_downtime.isnull().sum()"
   ]
  },
  {
   "cell_type": "code",
   "execution_count": 23,
   "id": "51c2734a-2da1-45c7-b9ac-3a41523ec489",
   "metadata": {},
   "outputs": [
    {
     "data": {
      "text/plain": [
       "np.int64(0)"
      ]
     },
     "execution_count": 23,
     "metadata": {},
     "output_type": "execute_result"
    }
   ],
   "source": [
    "# Find the number of duplicate records\n",
    "Line_downtime.duplicated().sum()"
   ]
  },
  {
   "cell_type": "markdown",
   "id": "08f03bb3-749a-47ad-93af-6c4d2c78f8a5",
   "metadata": {},
   "source": [
    "## Calendar"
   ]
  },
  {
   "cell_type": "code",
   "execution_count": 24,
   "id": "1eb085e4-2851-45e4-b592-427cc307c0c2",
   "metadata": {},
   "outputs": [
    {
     "name": "stdout",
     "output_type": "stream",
     "text": [
      "<class 'pandas.core.frame.DataFrame'>\n",
      "RangeIndex: 6 entries, 0 to 5\n",
      "Data columns (total 7 columns):\n",
      " #   Column         Non-Null Count  Dtype         \n",
      "---  ------         --------------  -----         \n",
      " 0   Date           6 non-null      datetime64[ns]\n",
      " 1   Year           6 non-null      int64         \n",
      " 2   Month          6 non-null      int64         \n",
      " 3   Quarter        6 non-null      int64         \n",
      " 4   Week_of_Month  6 non-null      int64         \n",
      " 5   Day_Name       6 non-null      object        \n",
      " 6   Month_Name     6 non-null      object        \n",
      "dtypes: datetime64[ns](1), int64(4), object(2)\n",
      "memory usage: 468.0+ bytes\n"
     ]
    }
   ],
   "source": [
    "Calender.info()"
   ]
  },
  {
   "cell_type": "code",
   "execution_count": 25,
   "id": "39260b16-6e35-4903-9d95-139eec93bab7",
   "metadata": {},
   "outputs": [
    {
     "data": {
      "text/plain": [
       "6"
      ]
     },
     "execution_count": 25,
     "metadata": {},
     "output_type": "execute_result"
    }
   ],
   "source": [
    "# Count the number of unique dates\n",
    "# The count should be equal to the nubmer of rows in the data frame\n",
    "Calender.Date.nunique()"
   ]
  },
  {
   "cell_type": "code",
   "execution_count": 26,
   "id": "145599e9-e438-4154-b97f-3e6b6a791f93",
   "metadata": {},
   "outputs": [
    {
     "data": {
      "text/plain": [
       "Date             0\n",
       "Year             0\n",
       "Month            0\n",
       "Quarter          0\n",
       "Week_of_Month    0\n",
       "Day_Name         0\n",
       "Month_Name       0\n",
       "dtype: int64"
      ]
     },
     "execution_count": 26,
     "metadata": {},
     "output_type": "execute_result"
    }
   ],
   "source": [
    "# Check for null values in each column\n",
    "Calender.isnull().sum()"
   ]
  },
  {
   "cell_type": "code",
   "execution_count": 27,
   "id": "a137d7c6-5a2f-49c9-841d-f879fa007771",
   "metadata": {},
   "outputs": [
    {
     "data": {
      "text/plain": [
       "np.int64(0)"
      ]
     },
     "execution_count": 27,
     "metadata": {},
     "output_type": "execute_result"
    }
   ],
   "source": [
    "# Find the number of duplicate records\n",
    "Calender.duplicated().sum()"
   ]
  }
 ],
 "metadata": {
  "kernelspec": {
   "display_name": "Python 3 (ipykernel)",
   "language": "python",
   "name": "python3"
  },
  "language_info": {
   "codemirror_mode": {
    "name": "ipython",
    "version": 3
   },
   "file_extension": ".py",
   "mimetype": "text/x-python",
   "name": "python",
   "nbconvert_exporter": "python",
   "pygments_lexer": "ipython3",
   "version": "3.13.1"
  }
 },
 "nbformat": 4,
 "nbformat_minor": 5
}
