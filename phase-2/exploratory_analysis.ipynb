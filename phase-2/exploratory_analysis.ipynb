{
 "cells": [
  {
   "cell_type": "markdown",
   "id": "22d001d4-5648-41d0-93e4-35b9659368f0",
   "metadata": {},
   "source": [
    "# Exploratory Data Analysis (EDA)"
   ]
  },
  {
   "cell_type": "markdown",
   "id": "d4863ac7-6ff8-4f50-a36d-6ed3bf1fdc97",
   "metadata": {},
   "source": [
    "This notebook explores manufacturing downtime data to find key insights to include in the final dashboard."
   ]
  },
  {
   "cell_type": "markdown",
   "id": "0d43f92b-0431-4034-8d26-a6d7f567cea0",
   "metadata": {},
   "source": [
    "# Contents\n",
    "- [Factors Causing Downtime](#Factors-Causing-Downtime)\n",
    "    - [Analysis Quesiont 01: Which Factors Contribute The Most to Downtime?](#Analysis-Question-01:-Which-Factors-Contribute-The-Most-to-Downtime?)\n",
    "    - [Analysis Question 02: Which Downtime Factors Occur More Frequently?](#Analysis-Question-02:-Which-Downtime-Factors-Occur-More-Frequently?)\n",
    "    - [Analysis Question 03: How Much of The Downtime is Associated with Operator Errors?](#Analysis-Quesion-03:-How-Much-of-The-Downtime-is-Associated-with-Operator-Errors?)\n",
    "    - [Analysis Question 04: Which Operator Causes More Downtime?](#Analysis-Question-04:-Which-Operator-Causes-More-Downtime?)\n",
    "    - [Analysis Question 05: Does Downtime Occur at Higher Rates for in Products with Certain Flavors?](#Analysis-Question-05:-Does-Downtime-Occur-at-Higher-Rates-for-in-Products-with-Certain-Flavors?)\n",
    "    - [Analysis Question 06: How Does Product Size Impact The Occurrence of Downtime?](#Analysis-Question-06:-How-Does-Product-Size-Impact-The-Occurrence-of-Downtime?)\n",
    "    -  [Analysis Question 07: Does Product Size Cause More Downtime Due to Product Spill?](#Analysis-Question-07:-Does-Product-Size-Cause-More-Downtime-Due-to-Product-Spill?)\n",
    "    -  [Analysis Question 08: Which Products Experience More Downtime?](#Analysis-Questions-08:-Which-Products-Experience-More-Downtime?)\n",
    "-  [Analysis of Downtime Trends over Time](#Analysis-of-Downtime-Trends-over-Time)\n",
    "    -  [Analysis Question 09: How Much Production Time Was Lost to Downtime in Total?](#Analysis-Question-09:-How-Much-Production-Time-Was-Lost-to-Downtime-in-Total?)\n",
    "    -  [Analysis Question 10: How Does Downtime Vary by Work Shifts?](#Analysis-Question-10:-How-Does-Downtime-Vary-by-Work-Shifts?)\n",
    "    -  [Analysis Question 11: How Does Total Downtime Vary over Time?](#Analysis-Question-11:-How-Does-Total-Downtime-Vary-over-Time?)\n",
    "-  [Analysis of Downtime Impact](#Analysis-of-Downtime-Impact)\n",
    "    -  [Analysis Question 12: How Does Downtime Affect Batch Production Rate?](#Analysis-Question-12:-How-Does-Downtime-Affect-Batch-Production-Rate?)"
   ]
  },
  {
   "cell_type": "markdown",
   "id": "ada6d47e-c1c5-4b9d-941f-aaa1fb2592c7",
   "metadata": {},
   "source": [
    "## Import Packages and Load Data"
   ]
  },
  {
   "cell_type": "code",
   "execution_count": 1,
   "id": "430d3415-d6eb-4cfe-9cf9-3afa7bdc2b74",
   "metadata": {},
   "outputs": [],
   "source": [
    "from datetime import datetime\n",
    "from matplotlib.lines import Line2D\n",
    "from matplotlib import pyplot as plt\n",
    "import numpy as np\n",
    "import pandas as pd\n",
    "import seaborn as sns"
   ]
  },
  {
   "cell_type": "code",
   "execution_count": 2,
   "id": "ff1466a3-1ef5-4fa4-aaf6-221cb54d1906",
   "metadata": {},
   "outputs": [],
   "source": [
    "# Load data\n",
    "source = \"../phase-1/clean_data_final.xlsx\"\n",
    "sheet_names = [\"Line_productivity\", \"Calender\", \"Products\", \"Product_details\", \"Downtime_factors\", \"Line_downtime\"]\n",
    "tables = pd.read_excel(source, sheet_names)"
   ]
  },
  {
   "cell_type": "code",
   "execution_count": 3,
   "id": "522c6ad8-4f69-4844-9a14-61fb91729fb2",
   "metadata": {},
   "outputs": [
    {
     "data": {
      "text/html": [
       "<div>\n",
       "<style scoped>\n",
       "    .dataframe tbody tr th:only-of-type {\n",
       "        vertical-align: middle;\n",
       "    }\n",
       "\n",
       "    .dataframe tbody tr th {\n",
       "        vertical-align: top;\n",
       "    }\n",
       "\n",
       "    .dataframe thead th {\n",
       "        text-align: right;\n",
       "    }\n",
       "</style>\n",
       "<table border=\"1\" class=\"dataframe\">\n",
       "  <thead>\n",
       "    <tr style=\"text-align: right;\">\n",
       "      <th></th>\n",
       "      <th>batch</th>\n",
       "      <th>factor</th>\n",
       "      <th>minutes</th>\n",
       "      <th>operator</th>\n",
       "      <th>date</th>\n",
       "      <th>start_time</th>\n",
       "      <th>end_time</th>\n",
       "      <th>product</th>\n",
       "      <th>description</th>\n",
       "      <th>operator_error</th>\n",
       "      <th>flavor</th>\n",
       "      <th>size</th>\n",
       "      <th>min_batch_time</th>\n",
       "      <th>year</th>\n",
       "      <th>month</th>\n",
       "      <th>quarter</th>\n",
       "      <th>week_of_month</th>\n",
       "      <th>day_name</th>\n",
       "      <th>month_name</th>\n",
       "    </tr>\n",
       "  </thead>\n",
       "  <tbody>\n",
       "    <tr>\n",
       "      <th>0</th>\n",
       "      <td>422111</td>\n",
       "      <td>2</td>\n",
       "      <td>60</td>\n",
       "      <td>Mac</td>\n",
       "      <td>2024-08-29</td>\n",
       "      <td>11:50:00</td>\n",
       "      <td>14:05:00</td>\n",
       "      <td>OR-600</td>\n",
       "      <td>Batch change</td>\n",
       "      <td>Yes</td>\n",
       "      <td>Orange</td>\n",
       "      <td>600</td>\n",
       "      <td>60</td>\n",
       "      <td>2024</td>\n",
       "      <td>8</td>\n",
       "      <td>3</td>\n",
       "      <td>5</td>\n",
       "      <td>Thursday</td>\n",
       "      <td>August</td>\n",
       "    </tr>\n",
       "    <tr>\n",
       "      <th>1</th>\n",
       "      <td>422111</td>\n",
       "      <td>7</td>\n",
       "      <td>15</td>\n",
       "      <td>Mac</td>\n",
       "      <td>2024-08-29</td>\n",
       "      <td>11:50:00</td>\n",
       "      <td>14:05:00</td>\n",
       "      <td>OR-600</td>\n",
       "      <td>Machine failure</td>\n",
       "      <td>No</td>\n",
       "      <td>Orange</td>\n",
       "      <td>600</td>\n",
       "      <td>60</td>\n",
       "      <td>2024</td>\n",
       "      <td>8</td>\n",
       "      <td>3</td>\n",
       "      <td>5</td>\n",
       "      <td>Thursday</td>\n",
       "      <td>August</td>\n",
       "    </tr>\n",
       "    <tr>\n",
       "      <th>2</th>\n",
       "      <td>422112</td>\n",
       "      <td>2</td>\n",
       "      <td>20</td>\n",
       "      <td>Mac</td>\n",
       "      <td>2024-08-29</td>\n",
       "      <td>14:05:00</td>\n",
       "      <td>15:45:00</td>\n",
       "      <td>LE-600</td>\n",
       "      <td>Batch change</td>\n",
       "      <td>Yes</td>\n",
       "      <td>Lemon lime</td>\n",
       "      <td>600</td>\n",
       "      <td>60</td>\n",
       "      <td>2024</td>\n",
       "      <td>8</td>\n",
       "      <td>3</td>\n",
       "      <td>5</td>\n",
       "      <td>Thursday</td>\n",
       "      <td>August</td>\n",
       "    </tr>\n",
       "    <tr>\n",
       "      <th>3</th>\n",
       "      <td>422112</td>\n",
       "      <td>8</td>\n",
       "      <td>20</td>\n",
       "      <td>Mac</td>\n",
       "      <td>2024-08-29</td>\n",
       "      <td>14:05:00</td>\n",
       "      <td>15:45:00</td>\n",
       "      <td>LE-600</td>\n",
       "      <td>Batch coding error</td>\n",
       "      <td>Yes</td>\n",
       "      <td>Lemon lime</td>\n",
       "      <td>600</td>\n",
       "      <td>60</td>\n",
       "      <td>2024</td>\n",
       "      <td>8</td>\n",
       "      <td>3</td>\n",
       "      <td>5</td>\n",
       "      <td>Thursday</td>\n",
       "      <td>August</td>\n",
       "    </tr>\n",
       "    <tr>\n",
       "      <th>4</th>\n",
       "      <td>422113</td>\n",
       "      <td>2</td>\n",
       "      <td>50</td>\n",
       "      <td>Mac</td>\n",
       "      <td>2024-08-29</td>\n",
       "      <td>15:45:00</td>\n",
       "      <td>17:35:00</td>\n",
       "      <td>LE-600</td>\n",
       "      <td>Batch change</td>\n",
       "      <td>Yes</td>\n",
       "      <td>Lemon lime</td>\n",
       "      <td>600</td>\n",
       "      <td>60</td>\n",
       "      <td>2024</td>\n",
       "      <td>8</td>\n",
       "      <td>3</td>\n",
       "      <td>5</td>\n",
       "      <td>Thursday</td>\n",
       "      <td>August</td>\n",
       "    </tr>\n",
       "    <tr>\n",
       "      <th>...</th>\n",
       "      <td>...</td>\n",
       "      <td>...</td>\n",
       "      <td>...</td>\n",
       "      <td>...</td>\n",
       "      <td>...</td>\n",
       "      <td>...</td>\n",
       "      <td>...</td>\n",
       "      <td>...</td>\n",
       "      <td>...</td>\n",
       "      <td>...</td>\n",
       "      <td>...</td>\n",
       "      <td>...</td>\n",
       "      <td>...</td>\n",
       "      <td>...</td>\n",
       "      <td>...</td>\n",
       "      <td>...</td>\n",
       "      <td>...</td>\n",
       "      <td>...</td>\n",
       "      <td>...</td>\n",
       "    </tr>\n",
       "    <tr>\n",
       "      <th>56</th>\n",
       "      <td>422147</td>\n",
       "      <td>4</td>\n",
       "      <td>17</td>\n",
       "      <td>Charlie</td>\n",
       "      <td>2024-09-02</td>\n",
       "      <td>19:30:00</td>\n",
       "      <td>22:55:00</td>\n",
       "      <td>CO-2000</td>\n",
       "      <td>Inventory shortage</td>\n",
       "      <td>No</td>\n",
       "      <td>Cola</td>\n",
       "      <td>2000</td>\n",
       "      <td>98</td>\n",
       "      <td>2024</td>\n",
       "      <td>9</td>\n",
       "      <td>3</td>\n",
       "      <td>1</td>\n",
       "      <td>Monday</td>\n",
       "      <td>September</td>\n",
       "    </tr>\n",
       "    <tr>\n",
       "      <th>57</th>\n",
       "      <td>422147</td>\n",
       "      <td>6</td>\n",
       "      <td>60</td>\n",
       "      <td>Charlie</td>\n",
       "      <td>2024-09-02</td>\n",
       "      <td>19:30:00</td>\n",
       "      <td>22:55:00</td>\n",
       "      <td>CO-2000</td>\n",
       "      <td>Machine adjustment</td>\n",
       "      <td>Yes</td>\n",
       "      <td>Cola</td>\n",
       "      <td>2000</td>\n",
       "      <td>98</td>\n",
       "      <td>2024</td>\n",
       "      <td>9</td>\n",
       "      <td>3</td>\n",
       "      <td>1</td>\n",
       "      <td>Monday</td>\n",
       "      <td>September</td>\n",
       "    </tr>\n",
       "    <tr>\n",
       "      <th>58</th>\n",
       "      <td>422147</td>\n",
       "      <td>7</td>\n",
       "      <td>30</td>\n",
       "      <td>Charlie</td>\n",
       "      <td>2024-09-02</td>\n",
       "      <td>19:30:00</td>\n",
       "      <td>22:55:00</td>\n",
       "      <td>CO-2000</td>\n",
       "      <td>Machine failure</td>\n",
       "      <td>No</td>\n",
       "      <td>Cola</td>\n",
       "      <td>2000</td>\n",
       "      <td>98</td>\n",
       "      <td>2024</td>\n",
       "      <td>9</td>\n",
       "      <td>3</td>\n",
       "      <td>1</td>\n",
       "      <td>Monday</td>\n",
       "      <td>September</td>\n",
       "    </tr>\n",
       "    <tr>\n",
       "      <th>59</th>\n",
       "      <td>422148</td>\n",
       "      <td>4</td>\n",
       "      <td>25</td>\n",
       "      <td>Mac</td>\n",
       "      <td>2024-09-03</td>\n",
       "      <td>22:55:00</td>\n",
       "      <td>01:05:00</td>\n",
       "      <td>CO-2000</td>\n",
       "      <td>Inventory shortage</td>\n",
       "      <td>No</td>\n",
       "      <td>Cola</td>\n",
       "      <td>2000</td>\n",
       "      <td>98</td>\n",
       "      <td>2024</td>\n",
       "      <td>9</td>\n",
       "      <td>3</td>\n",
       "      <td>1</td>\n",
       "      <td>Tuesday</td>\n",
       "      <td>September</td>\n",
       "    </tr>\n",
       "    <tr>\n",
       "      <th>60</th>\n",
       "      <td>422148</td>\n",
       "      <td>8</td>\n",
       "      <td>7</td>\n",
       "      <td>Mac</td>\n",
       "      <td>2024-09-03</td>\n",
       "      <td>22:55:00</td>\n",
       "      <td>01:05:00</td>\n",
       "      <td>CO-2000</td>\n",
       "      <td>Batch coding error</td>\n",
       "      <td>Yes</td>\n",
       "      <td>Cola</td>\n",
       "      <td>2000</td>\n",
       "      <td>98</td>\n",
       "      <td>2024</td>\n",
       "      <td>9</td>\n",
       "      <td>3</td>\n",
       "      <td>1</td>\n",
       "      <td>Tuesday</td>\n",
       "      <td>September</td>\n",
       "    </tr>\n",
       "  </tbody>\n",
       "</table>\n",
       "<p>61 rows × 19 columns</p>\n",
       "</div>"
      ],
      "text/plain": [
       "     batch  factor  minutes operator       date start_time  end_time  product  \\\n",
       "0   422111       2       60      Mac 2024-08-29   11:50:00  14:05:00   OR-600   \n",
       "1   422111       7       15      Mac 2024-08-29   11:50:00  14:05:00   OR-600   \n",
       "2   422112       2       20      Mac 2024-08-29   14:05:00  15:45:00   LE-600   \n",
       "3   422112       8       20      Mac 2024-08-29   14:05:00  15:45:00   LE-600   \n",
       "4   422113       2       50      Mac 2024-08-29   15:45:00  17:35:00   LE-600   \n",
       "..     ...     ...      ...      ...        ...        ...       ...      ...   \n",
       "56  422147       4       17  Charlie 2024-09-02   19:30:00  22:55:00  CO-2000   \n",
       "57  422147       6       60  Charlie 2024-09-02   19:30:00  22:55:00  CO-2000   \n",
       "58  422147       7       30  Charlie 2024-09-02   19:30:00  22:55:00  CO-2000   \n",
       "59  422148       4       25      Mac 2024-09-03   22:55:00  01:05:00  CO-2000   \n",
       "60  422148       8        7      Mac 2024-09-03   22:55:00  01:05:00  CO-2000   \n",
       "\n",
       "           description operator_error      flavor  size  min_batch_time  year  \\\n",
       "0         Batch change            Yes      Orange   600              60  2024   \n",
       "1      Machine failure             No      Orange   600              60  2024   \n",
       "2         Batch change            Yes  Lemon lime   600              60  2024   \n",
       "3   Batch coding error            Yes  Lemon lime   600              60  2024   \n",
       "4         Batch change            Yes  Lemon lime   600              60  2024   \n",
       "..                 ...            ...         ...   ...             ...   ...   \n",
       "56  Inventory shortage             No        Cola  2000              98  2024   \n",
       "57  Machine adjustment            Yes        Cola  2000              98  2024   \n",
       "58     Machine failure             No        Cola  2000              98  2024   \n",
       "59  Inventory shortage             No        Cola  2000              98  2024   \n",
       "60  Batch coding error            Yes        Cola  2000              98  2024   \n",
       "\n",
       "    month  quarter  week_of_month  day_name month_name  \n",
       "0       8        3              5  Thursday     August  \n",
       "1       8        3              5  Thursday     August  \n",
       "2       8        3              5  Thursday     August  \n",
       "3       8        3              5  Thursday     August  \n",
       "4       8        3              5  Thursday     August  \n",
       "..    ...      ...            ...       ...        ...  \n",
       "56      9        3              1    Monday  September  \n",
       "57      9        3              1    Monday  September  \n",
       "58      9        3              1    Monday  September  \n",
       "59      9        3              1   Tuesday  September  \n",
       "60      9        3              1   Tuesday  September  \n",
       "\n",
       "[61 rows x 19 columns]"
      ]
     },
     "execution_count": 3,
     "metadata": {},
     "output_type": "execute_result"
    }
   ],
   "source": [
    "# Merge data\n",
    "df = pd.merge(\n",
    "    left=tables[\"Line_downtime\"],\n",
    "    right=tables[\"Line_productivity\"],\n",
    "    how=\"inner\",\n",
    "    on=\"Batch\"\n",
    ")\n",
    "\n",
    "# Merge on Downtime Factors\n",
    "df = df.merge(\n",
    "    right=tables[\"Downtime_factors\"],\n",
    "    how=\"inner\",\n",
    "    on=\"Factor\"\n",
    ")\n",
    "\n",
    "# Merge on Products\n",
    "df = df.merge(\n",
    "    right=tables[\"Products\"],\n",
    "    how=\"inner\",\n",
    "    on=\"Product\"\n",
    ")\n",
    "\n",
    "# Merge on Product Details\n",
    "df = df.merge(\n",
    "    right=tables[\"Product_details\"],\n",
    "    how=\"inner\",\n",
    "    left_on=\"Size_In_ml\",\n",
    "    right_on=\"Size\"\n",
    ").drop(columns=\"Size_In_ml\")\n",
    "\n",
    "# Merge on Calendar\n",
    "df = df.merge(\n",
    "    right=tables[\"Calender\"],\n",
    "    how=\"inner\",\n",
    "    on=\"Date\"\n",
    ")\n",
    "\n",
    "df.rename(columns=lambda x: x.lower(), inplace=True)\n",
    "df"
   ]
  },
  {
   "cell_type": "markdown",
   "id": "f0901075-00c5-4177-96cd-5de4c57b6368",
   "metadata": {},
   "source": [
    "## Factors Causing Downtime"
   ]
  },
  {
   "cell_type": "markdown",
   "id": "a8c50737-960e-475e-b30e-8bf7caa35ba3",
   "metadata": {},
   "source": [
    "#### Analysis Question 01: Which Factors Contribute The Most to Downtime?"
   ]
  },
  {
   "cell_type": "code",
   "execution_count": 4,
   "id": "1bb45af3-15f4-4491-921d-f0e858d96e69",
   "metadata": {},
   "outputs": [
    {
     "data": {
      "text/html": [
       "<div>\n",
       "<style scoped>\n",
       "    .dataframe tbody tr th:only-of-type {\n",
       "        vertical-align: middle;\n",
       "    }\n",
       "\n",
       "    .dataframe tbody tr th {\n",
       "        vertical-align: top;\n",
       "    }\n",
       "\n",
       "    .dataframe thead th {\n",
       "        text-align: right;\n",
       "    }\n",
       "</style>\n",
       "<table border=\"1\" class=\"dataframe\">\n",
       "  <thead>\n",
       "    <tr style=\"text-align: right;\">\n",
       "      <th></th>\n",
       "      <th>description</th>\n",
       "      <th>minutes</th>\n",
       "      <th>percent</th>\n",
       "      <th>cum_percent</th>\n",
       "    </tr>\n",
       "  </thead>\n",
       "  <tbody>\n",
       "    <tr>\n",
       "      <th>0</th>\n",
       "      <td>Machine adjustment</td>\n",
       "      <td>332</td>\n",
       "      <td>23.92</td>\n",
       "      <td>23.92</td>\n",
       "    </tr>\n",
       "    <tr>\n",
       "      <th>1</th>\n",
       "      <td>Machine failure</td>\n",
       "      <td>254</td>\n",
       "      <td>18.30</td>\n",
       "      <td>42.22</td>\n",
       "    </tr>\n",
       "    <tr>\n",
       "      <th>2</th>\n",
       "      <td>Inventory shortage</td>\n",
       "      <td>225</td>\n",
       "      <td>16.21</td>\n",
       "      <td>58.43</td>\n",
       "    </tr>\n",
       "    <tr>\n",
       "      <th>3</th>\n",
       "      <td>Batch change</td>\n",
       "      <td>160</td>\n",
       "      <td>11.53</td>\n",
       "      <td>69.96</td>\n",
       "    </tr>\n",
       "    <tr>\n",
       "      <th>4</th>\n",
       "      <td>Batch coding error</td>\n",
       "      <td>145</td>\n",
       "      <td>10.45</td>\n",
       "      <td>80.40</td>\n",
       "    </tr>\n",
       "    <tr>\n",
       "      <th>5</th>\n",
       "      <td>Other</td>\n",
       "      <td>74</td>\n",
       "      <td>5.33</td>\n",
       "      <td>85.73</td>\n",
       "    </tr>\n",
       "    <tr>\n",
       "      <th>6</th>\n",
       "      <td>Product spill</td>\n",
       "      <td>57</td>\n",
       "      <td>4.11</td>\n",
       "      <td>89.84</td>\n",
       "    </tr>\n",
       "    <tr>\n",
       "      <th>7</th>\n",
       "      <td>Calibration error</td>\n",
       "      <td>49</td>\n",
       "      <td>3.53</td>\n",
       "      <td>93.37</td>\n",
       "    </tr>\n",
       "    <tr>\n",
       "      <th>8</th>\n",
       "      <td>Labeling error</td>\n",
       "      <td>42</td>\n",
       "      <td>3.03</td>\n",
       "      <td>96.40</td>\n",
       "    </tr>\n",
       "    <tr>\n",
       "      <th>9</th>\n",
       "      <td>Label switch</td>\n",
       "      <td>33</td>\n",
       "      <td>2.38</td>\n",
       "      <td>98.78</td>\n",
       "    </tr>\n",
       "    <tr>\n",
       "      <th>10</th>\n",
       "      <td>Conveyor belt jam</td>\n",
       "      <td>17</td>\n",
       "      <td>1.22</td>\n",
       "      <td>100.00</td>\n",
       "    </tr>\n",
       "  </tbody>\n",
       "</table>\n",
       "</div>"
      ],
      "text/plain": [
       "           description  minutes  percent  cum_percent\n",
       "0   Machine adjustment      332    23.92        23.92\n",
       "1      Machine failure      254    18.30        42.22\n",
       "2   Inventory shortage      225    16.21        58.43\n",
       "3         Batch change      160    11.53        69.96\n",
       "4   Batch coding error      145    10.45        80.40\n",
       "5                Other       74     5.33        85.73\n",
       "6        Product spill       57     4.11        89.84\n",
       "7    Calibration error       49     3.53        93.37\n",
       "8       Labeling error       42     3.03        96.40\n",
       "9         Label switch       33     2.38        98.78\n",
       "10   Conveyor belt jam       17     1.22       100.00"
      ]
     },
     "execution_count": 4,
     "metadata": {},
     "output_type": "execute_result"
    }
   ],
   "source": [
    "# Group data for chart\n",
    "pareto_df = df.groupby([\"description\"], as_index=False).agg({\n",
    "    \"minutes\": \"sum\"\n",
    "})\n",
    "pareto_df.sort_values(by=\"minutes\", ascending=False, inplace=True, ignore_index=True)\n",
    "pareto_df[\"percent\"] = round(pareto_df[\"minutes\"] * 100 / pareto_df[\"minutes\"].sum(), 2)\n",
    "pareto_df[\"cum_percent\"] = round(pareto_df[\"minutes\"].cumsum() * 100 / pareto_df[\"minutes\"].sum(), 2)\n",
    "\n",
    "# Show data\n",
    "pareto_df"
   ]
  },
  {
   "cell_type": "code",
   "execution_count": 5,
   "id": "7a49da73-3202-4b72-aa74-52c69513bc5d",
   "metadata": {},
   "outputs": [
    {
     "data": {
      "image/png": "[encoded data removed]",
      "text/plain": [
       "<Figure size 1000x600 with 2 Axes>"
      ]
     },
     "metadata": {},
     "output_type": "display_data"
    }
   ],
   "source": [
    "# Plot diagram\n",
    "fig, ax_bar = plt.subplots(figsize=(10, 6))\n",
    "\n",
    "xticks = np.arange(len(pareto_df))\n",
    "\n",
    "# Plot the bar chart\n",
    "bars = ax_bar.bar(\n",
    "    x=xticks,\n",
    "    height=pareto_df[\"percent\"],\n",
    "    color=\"dodgerblue\",\n",
    "    edgecolor=\"black\",\n",
    "    label=\"Relative Contribution\",\n",
    "    zorder=0\n",
    ")\n",
    "ax_bar.set_xticks(xticks)\n",
    "ax_bar.set_xticklabels(pareto_df[\"description\"], rotation=90)\n",
    "ax_bar.set_ylabel(\"Contribution to Total Downtime (%)\", labelpad=20)\n",
    "ax_bar.set_xlabel(\"Downtime Factors\", labelpad=20)\n",
    "ax_bar.set_title(\"Factors That Contribute The Most to Downtime\", ha=\"left\", x=0)\n",
    "ax_bar.set_ylim(0, np.ceil(pareto_df.loc[0, \"percent\"] / 5) * 5)\n",
    "\n",
    "# Plot the line\n",
    "ax_line = ax_bar.twinx()\n",
    "line = ax_line.plot(\n",
    "    xticks,\n",
    "    pareto_df[\"cum_percent\"],\n",
    "    label=\"Cumulative Contribution\",\n",
    "    color=\"orange\",\n",
    "    marker=\"o\",\n",
    "    lw=2,\n",
    "    zorder=1\n",
    ")\n",
    "ax_line.set_ylabel(\"Cumulative Contribution to Total Downtime (%)\", labelpad=20)\n",
    "ax_line.set_ylim(0, 120)\n",
    "\n",
    "# Draw dashed line at 80%\n",
    "x = pareto_df[pareto_df[\"cum_percent\"] >= 80].index[0]\n",
    "y = pareto_df.loc[x, \"cum_percent\"]\n",
    "line_v = Line2D((x, x), (0, y), color=\"black\", ls=\"--\", zorder=2)\n",
    "line_h = Line2D((x, xticks.max() + 1), (y, y), color=\"black\", ls=\"--\", zorder=2)\n",
    "ax_line.add_line(line_v)\n",
    "ax_line.add_line(line_h)\n",
    "\n",
    "# Add labels\n",
    "for i in xticks:\n",
    "    ax_bar.text(i, 0.5, f\"{pareto_df.iloc[i, 2]}%\", \n",
    "                color=\"white\", fontsize=8, fontweight=\"bold\", ha=\"center\", va=\"center\", zorder=3)\n",
    "    ax_line.text(i - 0.5, pareto_df.loc[i, \"cum_percent\"], f\"{pareto_df.iloc[i, 3]}%\", \n",
    "                 fontsize=8, fontweight=\"bold\", ha=\"center\", va=\"center\", zorder=3)\n",
    "\n",
    "# Show legend\n",
    "fig.legend(bbox_to_anchor=(0.905, 0.955), fontsize=8)\n",
    "\n",
    "plt.show()"
   ]
  },
  {
   "cell_type": "markdown",
   "id": "a43705cb-7b90-4972-8500-f78df9cc6e06",
   "metadata": {},
   "source": [
    "#### Analysis Question 02: Which Downtime Factors Occur More Frequently?"
   ]
  },
  {
   "cell_type": "code",
   "execution_count": 6,
   "id": "6b4e927d-9e74-445b-9860-ac242c71e9ef",
   "metadata": {},
   "outputs": [
    {
     "data": {
      "text/html": [
       "<div>\n",
       "<style scoped>\n",
       "    .dataframe tbody tr th:only-of-type {\n",
       "        vertical-align: middle;\n",
       "    }\n",
       "\n",
       "    .dataframe tbody tr th {\n",
       "        vertical-align: top;\n",
       "    }\n",
       "\n",
       "    .dataframe thead th {\n",
       "        text-align: right;\n",
       "    }\n",
       "</style>\n",
       "<table border=\"1\" class=\"dataframe\">\n",
       "  <thead>\n",
       "    <tr style=\"text-align: right;\">\n",
       "      <th></th>\n",
       "      <th>factor</th>\n",
       "      <th>freq</th>\n",
       "      <th>relative_freq</th>\n",
       "    </tr>\n",
       "  </thead>\n",
       "  <tbody>\n",
       "    <tr>\n",
       "      <th>0</th>\n",
       "      <td>Machine adjustment</td>\n",
       "      <td>12</td>\n",
       "      <td>19.67</td>\n",
       "    </tr>\n",
       "    <tr>\n",
       "      <th>1</th>\n",
       "      <td>Machine failure</td>\n",
       "      <td>11</td>\n",
       "      <td>18.03</td>\n",
       "    </tr>\n",
       "    <tr>\n",
       "      <th>2</th>\n",
       "      <td>Inventory shortage</td>\n",
       "      <td>9</td>\n",
       "      <td>14.75</td>\n",
       "    </tr>\n",
       "    <tr>\n",
       "      <th>3</th>\n",
       "      <td>Batch coding error</td>\n",
       "      <td>6</td>\n",
       "      <td>9.84</td>\n",
       "    </tr>\n",
       "    <tr>\n",
       "      <th>4</th>\n",
       "      <td>Other</td>\n",
       "      <td>6</td>\n",
       "      <td>9.84</td>\n",
       "    </tr>\n",
       "    <tr>\n",
       "      <th>5</th>\n",
       "      <td>Batch change</td>\n",
       "      <td>5</td>\n",
       "      <td>8.20</td>\n",
       "    </tr>\n",
       "    <tr>\n",
       "      <th>6</th>\n",
       "      <td>Calibration error</td>\n",
       "      <td>3</td>\n",
       "      <td>4.92</td>\n",
       "    </tr>\n",
       "    <tr>\n",
       "      <th>7</th>\n",
       "      <td>Label switch</td>\n",
       "      <td>3</td>\n",
       "      <td>4.92</td>\n",
       "    </tr>\n",
       "    <tr>\n",
       "      <th>8</th>\n",
       "      <td>Product spill</td>\n",
       "      <td>3</td>\n",
       "      <td>4.92</td>\n",
       "    </tr>\n",
       "    <tr>\n",
       "      <th>9</th>\n",
       "      <td>Labeling error</td>\n",
       "      <td>2</td>\n",
       "      <td>3.28</td>\n",
       "    </tr>\n",
       "    <tr>\n",
       "      <th>10</th>\n",
       "      <td>Conveyor belt jam</td>\n",
       "      <td>1</td>\n",
       "      <td>1.64</td>\n",
       "    </tr>\n",
       "  </tbody>\n",
       "</table>\n",
       "</div>"
      ],
      "text/plain": [
       "                factor  freq  relative_freq\n",
       "0   Machine adjustment    12          19.67\n",
       "1      Machine failure    11          18.03\n",
       "2   Inventory shortage     9          14.75\n",
       "3   Batch coding error     6           9.84\n",
       "4                Other     6           9.84\n",
       "5         Batch change     5           8.20\n",
       "6    Calibration error     3           4.92\n",
       "7         Label switch     3           4.92\n",
       "8        Product spill     3           4.92\n",
       "9       Labeling error     2           3.28\n",
       "10   Conveyor belt jam     1           1.64"
      ]
     },
     "execution_count": 6,
     "metadata": {},
     "output_type": "execute_result"
    }
   ],
   "source": [
    "# Group data for chart\n",
    "factor_dist_df = df.groupby([\"description\"], as_index=False).agg({\"factor\":\"count\"})\n",
    "factor_dist_df.sort_values(by=\"factor\", ascending=False, ignore_index=True, inplace=True)\n",
    "factor_dist_df.rename(columns={\"description\": \"factor\", \"factor\":\"freq\"}, inplace=True)\n",
    "total = factor_dist_df[\"freq\"].sum()\n",
    "factor_dist_df[\"relative_freq\"] = round(factor_dist_df[\"freq\"] * 100 / total, 2)\n",
    "\n",
    "# Show data\n",
    "factor_dist_df"
   ]
  },
  {
   "cell_type": "code",
   "execution_count": 7,
   "id": "d467a60b-c0ab-4b27-91ca-8bf7b4f8d9ef",
   "metadata": {},
   "outputs": [
    {
     "data": {
      "image/png": "[encoded data removed]",
      "text/plain": [
       "<Figure size 900x600 with 1 Axes>"
      ]
     },
     "metadata": {},
     "output_type": "display_data"
    }
   ],
   "source": [
    "fig, ax = plt.subplots(figsize=(9, 6))\n",
    "\n",
    "# Plot bars\n",
    "x = np.arange(len(factor_dist_df))\n",
    "bars = ax.bar(x, factor_dist_df[\"relative_freq\"], color=\"dodgerblue\", edgecolor=\"black\")\n",
    "ax.set_xticks(x)\n",
    "ax.set_xticklabels(factor_dist_df[\"factor\"], rotation=90)\n",
    "ax.set_xlabel(\"Relative Frequency\", labelpad=10)\n",
    "ax.set_ylabel(\"Downtime Facotrs\", labelpad=20)\n",
    "ax.spines[\"top\"].set_visible(False)\n",
    "ax.spines[\"right\"].set_visible(False)\n",
    "ax.set_title(\"Most Frequent Downtime Factors\")\n",
    "\n",
    "# Add labels\n",
    "for x in xticks:\n",
    "    ax.text(x, bars[x].get_height() + 0.25, f\"{factor_dist_df.loc[x, 'freq']}\\n({factor_dist_df.loc[x, 'relative_freq']}%)\", fontsize=8, ha=\"center\")\n",
    "\n",
    "plt.show()"
   ]
  },
  {
   "cell_type": "markdown",
   "id": "1c02d569-091c-4c2b-b6bf-110058c6f466",
   "metadata": {},
   "source": [
    "#### Analysis Quesion 03: How Much of The Downtime is Associated with Operator Errors?"
   ]
  },
  {
   "cell_type": "code",
   "execution_count": 8,
   "id": "3bfb3f6b-4149-4a69-9f86-4df48efa0ed1",
   "metadata": {},
   "outputs": [
    {
     "data": {
      "image/png": "[encoded data removed]",
      "text/plain": [
       "<Figure size 500x300 with 1 Axes>"
      ]
     },
     "metadata": {},
     "output_type": "display_data"
    }
   ],
   "source": [
    "# Group data for chart\n",
    "pie_df = df.groupby([\"operator_error\"], as_index=False).agg({\"minutes\":\"sum\"})\n",
    "\n",
    "# Plot pie\n",
    "fig, ax = plt.subplots(figsize=(5, 3))\n",
    "\n",
    "wedges, texts, autotexts = ax.pie(pie_df[\"minutes\"], labels=pie_df[\"operator_error\"], autopct=\"%0.2f%%\",\n",
    "      wedgeprops={\"edgecolor\":\"black\"})\n",
    "ax.set_title(\"Percentage of Downtime from Operator Errors\")\n",
    "\n",
    "for text in autotexts:\n",
    "    text.set_color(\"white\")\n",
    "    text.set_weight(\"bold\")\n",
    "\n",
    "plt.show()"
   ]
  },
  {
   "cell_type": "markdown",
   "id": "85a85305-ed57-4130-80da-1a3ab7a1c311",
   "metadata": {},
   "source": [
    "#### Analysis Question 04: Which Operator Causes More Downtime?"
   ]
  },
  {
   "cell_type": "code",
   "execution_count": 9,
   "id": "7d08f78b-0d96-4ab6-a866-a4a5a0cdc65d",
   "metadata": {},
   "outputs": [
    {
     "data": {
      "text/html": [
       "<div>\n",
       "<style scoped>\n",
       "    .dataframe tbody tr th:only-of-type {\n",
       "        vertical-align: middle;\n",
       "    }\n",
       "\n",
       "    .dataframe tbody tr th {\n",
       "        vertical-align: top;\n",
       "    }\n",
       "\n",
       "    .dataframe thead th {\n",
       "        text-align: right;\n",
       "    }\n",
       "</style>\n",
       "<table border=\"1\" class=\"dataframe\">\n",
       "  <thead>\n",
       "    <tr style=\"text-align: right;\">\n",
       "      <th></th>\n",
       "      <th>operator</th>\n",
       "      <th>minutes</th>\n",
       "    </tr>\n",
       "  </thead>\n",
       "  <tbody>\n",
       "    <tr>\n",
       "      <th>0</th>\n",
       "      <td>Charlie</td>\n",
       "      <td>228</td>\n",
       "    </tr>\n",
       "    <tr>\n",
       "      <th>1</th>\n",
       "      <td>Dee</td>\n",
       "      <td>192</td>\n",
       "    </tr>\n",
       "    <tr>\n",
       "      <th>2</th>\n",
       "      <td>Mac</td>\n",
       "      <td>192</td>\n",
       "    </tr>\n",
       "    <tr>\n",
       "      <th>3</th>\n",
       "      <td>Dennis</td>\n",
       "      <td>164</td>\n",
       "    </tr>\n",
       "  </tbody>\n",
       "</table>\n",
       "</div>"
      ],
      "text/plain": [
       "  operator  minutes\n",
       "0  Charlie      228\n",
       "1      Dee      192\n",
       "2      Mac      192\n",
       "3   Dennis      164"
      ]
     },
     "execution_count": 9,
     "metadata": {},
     "output_type": "execute_result"
    }
   ],
   "source": [
    "# Group data for chart\n",
    "operator_downtime = df[df[\"operator_error\"] == \"Yes\"].groupby(\"operator\", as_index=False)[\"minutes\"].sum()\n",
    "operator_downtime = operator_downtime.sort_values(by=\"minutes\", ascending=False, ignore_index=True)\n",
    "operator_downtime[\"minutes\"] = operator_downtime[\"minutes\"].round(2)\n",
    "\n",
    "# Show data\n",
    "operator_downtime"
   ]
  },
  {
   "cell_type": "code",
   "execution_count": 10,
   "id": "4f3c3d01-2bc0-41ee-bccd-8a61434e84d3",
   "metadata": {},
   "outputs": [
    {
     "data": {
      "image/png": "[encoded data removed]",
      "text/plain": [
       "<Figure size 700x500 with 1 Axes>"
      ]
     },
     "metadata": {},
     "output_type": "display_data"
    }
   ],
   "source": [
    "fig, ax = plt.subplots(figsize=(7, 5))\n",
    "\n",
    "# Plot the chart\n",
    "x = np.arange(len(operator_downtime))\n",
    "ax.bar(x, operator_downtime[\"minutes\"], color=\"dodgerblue\", edgecolor=\"black\")\n",
    "ax.set_xticks(x)\n",
    "ax.set_xticklabels(operator_downtime[\"operator\"])\n",
    "ax.set_xlabel(\"Operator\", labelpad=10)\n",
    "ax.set_ylabel(\"Average Downtime (Minutes)\", labelpad=10)\n",
    "ax.spines[\"top\"].set_visible(False)\n",
    "ax.spines[\"right\"].set_visible(False)\n",
    "ax.set_title(\"Total Downtime by Operator\")\n",
    "\n",
    "# Add data labels\n",
    "for i in x:\n",
    "    ax.text(i, operator_downtime.loc[i, \"minutes\"] + 1.5, f\"{operator_downtime.loc[i, 'minutes']}\",\n",
    "           fontsize=8, ha=\"center\")\n",
    "\n",
    "plt.show()"
   ]
  },
  {
   "cell_type": "markdown",
   "id": "5332dd05-df04-478b-90fe-fa792247ce63",
   "metadata": {},
   "source": [
    "#### Analysis Question 05: Does Downtime Occur at Higher Rates for in Products with Certain Flavors?"
   ]
  },
  {
   "cell_type": "code",
   "execution_count": 11,
   "id": "c5cf5648-c61c-4b18-9a1d-34fab0a9a31f",
   "metadata": {},
   "outputs": [
    {
     "data": {
      "text/html": [
       "<div>\n",
       "<style scoped>\n",
       "    .dataframe tbody tr th:only-of-type {\n",
       "        vertical-align: middle;\n",
       "    }\n",
       "\n",
       "    .dataframe tbody tr th {\n",
       "        vertical-align: top;\n",
       "    }\n",
       "\n",
       "    .dataframe thead th {\n",
       "        text-align: right;\n",
       "    }\n",
       "</style>\n",
       "<table border=\"1\" class=\"dataframe\">\n",
       "  <thead>\n",
       "    <tr style=\"text-align: right;\">\n",
       "      <th></th>\n",
       "      <th>flavor</th>\n",
       "      <th>minutes</th>\n",
       "    </tr>\n",
       "  </thead>\n",
       "  <tbody>\n",
       "    <tr>\n",
       "      <th>0</th>\n",
       "      <td>Cola</td>\n",
       "      <td>771</td>\n",
       "    </tr>\n",
       "    <tr>\n",
       "      <th>1</th>\n",
       "      <td>Root Berry</td>\n",
       "      <td>258</td>\n",
       "    </tr>\n",
       "    <tr>\n",
       "      <th>2</th>\n",
       "      <td>Lemon lime</td>\n",
       "      <td>169</td>\n",
       "    </tr>\n",
       "    <tr>\n",
       "      <th>3</th>\n",
       "      <td>Diet Cola</td>\n",
       "      <td>115</td>\n",
       "    </tr>\n",
       "    <tr>\n",
       "      <th>4</th>\n",
       "      <td>Orange</td>\n",
       "      <td>75</td>\n",
       "    </tr>\n",
       "  </tbody>\n",
       "</table>\n",
       "</div>"
      ],
      "text/plain": [
       "       flavor  minutes\n",
       "0        Cola      771\n",
       "1  Root Berry      258\n",
       "2  Lemon lime      169\n",
       "3   Diet Cola      115\n",
       "4      Orange       75"
      ]
     },
     "execution_count": 11,
     "metadata": {},
     "output_type": "execute_result"
    }
   ],
   "source": [
    "# Group data\n",
    "flavor_aggregated_df = df.groupby(\"flavor\", as_index=False)[\"minutes\"].sum().sort_values(by=\"minutes\", ascending=False, ignore_index=True)\n",
    "flavor_aggregated_df[\"minutes\"] = flavor_aggregated_df[\"minutes\"].round(2)\n",
    "flavor_aggregated_df"
   ]
  },
  {
   "cell_type": "code",
   "execution_count": 12,
   "id": "a7d7dcc5-dd78-43b5-a68c-38f8621c85a8",
   "metadata": {},
   "outputs": [
    {
     "data": {
      "image/png": "[encoded data removed]",
      "text/plain": [
       "<Figure size 700x500 with 1 Axes>"
      ]
     },
     "metadata": {},
     "output_type": "display_data"
    }
   ],
   "source": [
    "fig, ax = plt.subplots(figsize=(7, 5))\n",
    "\n",
    "xticks = np.arange(len(flavor_aggregated_df))\n",
    "ax.bar(xticks, flavor_aggregated_df[\"minutes\"], color=\"dodgerblue\", edgecolor=\"black\")\n",
    "ax.set_xticks(xticks)\n",
    "ax.set_xticklabels(flavor_aggregated_df[\"flavor\"])\n",
    "ax.set_xlabel(\"Product Flavor\")\n",
    "ax.set_ylabel(\"Average Downtime (Minutes)\")\n",
    "ax.spines[\"top\"].set_visible(False)\n",
    "ax.spines[\"right\"].set_visible(False)\n",
    "ax.set_title(\"Total Downtime by Product Flavor\")\n",
    "\n",
    "for x in xticks:\n",
    "    ax.text(x, flavor_aggregated_df.loc[x, \"minutes\"] + 5.5, f\"{flavor_aggregated_df.loc[x, 'minutes']}\", fontsize=8, ha=\"center\")\n",
    "\n",
    "plt.show()"
   ]
  },
  {
   "cell_type": "markdown",
   "id": "a1b7d7b0-f046-484e-9e4b-49d6c153a6b9",
   "metadata": {},
   "source": [
    "#### Analysis Question 06: How Does Product Size Impact The Occurrence of Downtime?"
   ]
  },
  {
   "cell_type": "code",
   "execution_count": 13,
   "id": "0b1386e5-0af4-46d5-b5c5-a7dd23f5fa6c",
   "metadata": {},
   "outputs": [
    {
     "data": {
      "text/html": [
       "<div>\n",
       "<style scoped>\n",
       "    .dataframe tbody tr th:only-of-type {\n",
       "        vertical-align: middle;\n",
       "    }\n",
       "\n",
       "    .dataframe tbody tr th {\n",
       "        vertical-align: top;\n",
       "    }\n",
       "\n",
       "    .dataframe thead th {\n",
       "        text-align: right;\n",
       "    }\n",
       "</style>\n",
       "<table border=\"1\" class=\"dataframe\">\n",
       "  <thead>\n",
       "    <tr style=\"text-align: right;\">\n",
       "      <th></th>\n",
       "      <th>size</th>\n",
       "      <th>minutes</th>\n",
       "    </tr>\n",
       "  </thead>\n",
       "  <tbody>\n",
       "    <tr>\n",
       "      <th>0</th>\n",
       "      <td>600 ml</td>\n",
       "      <td>1111</td>\n",
       "    </tr>\n",
       "    <tr>\n",
       "      <th>1</th>\n",
       "      <td>2000 ml</td>\n",
       "      <td>277</td>\n",
       "    </tr>\n",
       "  </tbody>\n",
       "</table>\n",
       "</div>"
      ],
      "text/plain": [
       "      size  minutes\n",
       "0   600 ml     1111\n",
       "1  2000 ml      277"
      ]
     },
     "execution_count": 13,
     "metadata": {},
     "output_type": "execute_result"
    }
   ],
   "source": [
    "prod_size_aggregated_df = df.groupby(\"size\", as_index=False)[\"minutes\"].sum()\n",
    "prod_size_aggregated_df[\"size\"] = prod_size_aggregated_df[\"size\"].astype(str) + \" ml\"\n",
    "prod_size_aggregated_df[\"minutes\"] = prod_size_aggregated_df[\"minutes\"].round(2)\n",
    "prod_size_aggregated_df"
   ]
  },
  {
   "cell_type": "code",
   "execution_count": 14,
   "id": "0aed12a7-1e31-4a43-9431-dd52ed8c4baf",
   "metadata": {},
   "outputs": [
    {
     "data": {
      "image/png": "[encoded data removed]",
      "text/plain": [
       "<Figure size 300x500 with 1 Axes>"
      ]
     },
     "metadata": {},
     "output_type": "display_data"
    }
   ],
   "source": [
    "fig, ax = plt.subplots(figsize=(3, 5))\n",
    "\n",
    "xticks = np.arange(len(prod_size_aggregated_df))\n",
    "ax.bar(xticks, prod_size_aggregated_df[\"minutes\"], color=\"dodgerblue\", edgecolor=\"black\")\n",
    "ax.set_xticks(xticks)\n",
    "ax.set_xticklabels(prod_size_aggregated_df[\"size\"])\n",
    "ax.set_xlabel(\"Product Size\")\n",
    "ax.set_ylabel(\"Average Downtime (Minutes\")\n",
    "ax.spines[\"top\"].set_visible(False)\n",
    "ax.spines[\"right\"].set_visible(False)\n",
    "ax.set_title(\"Total Downtime by Product Size\")\n",
    "\n",
    "for x in xticks:\n",
    "    ax.text(x, prod_size_aggregated_df.loc[x, \"minutes\"] + 7.5, f\"{prod_size_aggregated_df.loc[x, 'minutes']}\", fontsize=8, ha=\"center\")\n",
    "\n",
    "plt.show()"
   ]
  },
  {
   "cell_type": "markdown",
   "id": "fb42a716-613e-4e93-b7ce-401258ab90a5",
   "metadata": {},
   "source": [
    "#### Analysis Question 07: Does Product Size Cause More Downtime Due to Product Spill?"
   ]
  },
  {
   "cell_type": "code",
   "execution_count": 15,
   "id": "548543ad-cd43-4354-b93e-f381e10d3875",
   "metadata": {},
   "outputs": [
    {
     "data": {
      "text/html": [
       "<div>\n",
       "<style scoped>\n",
       "    .dataframe tbody tr th:only-of-type {\n",
       "        vertical-align: middle;\n",
       "    }\n",
       "\n",
       "    .dataframe tbody tr th {\n",
       "        vertical-align: top;\n",
       "    }\n",
       "\n",
       "    .dataframe thead th {\n",
       "        text-align: right;\n",
       "    }\n",
       "</style>\n",
       "<table border=\"1\" class=\"dataframe\">\n",
       "  <thead>\n",
       "    <tr style=\"text-align: right;\">\n",
       "      <th></th>\n",
       "      <th>size</th>\n",
       "      <th>minutes</th>\n",
       "    </tr>\n",
       "  </thead>\n",
       "  <tbody>\n",
       "    <tr>\n",
       "      <th>0</th>\n",
       "      <td>600 ml</td>\n",
       "      <td>57</td>\n",
       "    </tr>\n",
       "  </tbody>\n",
       "</table>\n",
       "</div>"
      ],
      "text/plain": [
       "     size  minutes\n",
       "0  600 ml       57"
      ]
     },
     "execution_count": 15,
     "metadata": {},
     "output_type": "execute_result"
    }
   ],
   "source": [
    "# What is the relation between product spill and product size?\n",
    "aggregated_df = df[df[\"factor\"] == 5].groupby(\"size\", as_index=False)[\"minutes\"].sum()\n",
    "aggregated_df[\"size\"] = aggregated_df[\"size\"].astype(str) + \" ml\"\n",
    "aggregated_df[\"minutes\"] = aggregated_df[\"minutes\"].round(2)\n",
    "aggregated_df"
   ]
  },
  {
   "cell_type": "markdown",
   "id": "3a9d912a-13e5-4a5c-a8e0-dba81624c035",
   "metadata": {},
   "source": [
    "#### Analysis Questions 08: Which Products Experience More Downtime?"
   ]
  },
  {
   "cell_type": "code",
   "execution_count": 16,
   "id": "6096d7eb-1bf9-47f0-bb0d-300eecf40eb2",
   "metadata": {},
   "outputs": [
    {
     "name": "stdout",
     "output_type": "stream",
     "text": [
      "   product      flavor  minutes\n",
      "0   CO-600        Cola      494\n",
      "1  CO-2000        Cola      277\n",
      "2   RB-600  Root Berry      258\n",
      "3   LE-600  Lemon lime      169\n",
      "4   DC-600   Diet Cola      115\n",
      "5   OR-600      Orange       75\n"
     ]
    }
   ],
   "source": [
    "# Calculate total downtime per product\n",
    "product_downtime = df.groupby([\"product\",\"flavor\"])[\"minutes\"].sum().reset_index()\n",
    "product_downtime = product_downtime.sort_values(by=\"minutes\", ascending=False).reset_index(drop=True)\n",
    "\n",
    "print(product_downtime)  # Products by downtime"
   ]
  },
  {
   "cell_type": "code",
   "execution_count": 17,
   "id": "6674b479-2b52-4bbd-8c0f-1688ee79aeeb",
   "metadata": {},
   "outputs": [
    {
     "data": {
      "image/png": "[encoded data removed]",
      "text/plain": [
       "<Figure size 1200x600 with 1 Axes>"
      ]
     },
     "metadata": {},
     "output_type": "display_data"
    }
   ],
   "source": [
    "# Set figure size\n",
    "plt.figure(figsize=(12, 6))\n",
    "\n",
    "# Create bar plot with Flavor as hue\n",
    "sns.barplot(data=product_downtime, x=\"minutes\", y=\"product\", hue=\"flavor\", dodge=False, palette=\"Blues_r\")\n",
    "\n",
    "# Customize labels and title\n",
    "plt.xlabel(\"Total Downtime (Minutes)\", fontsize=12)\n",
    "plt.ylabel(\"Product (Code)\", fontsize=12)\n",
    "plt.title(\"Total Downtime per Product\", fontsize=14, fontweight=\"bold\")\n",
    "plt.legend(title=\"Flavor\", bbox_to_anchor=(1.05, 1), loc=\"upper left\") # Move legend outside the plot\n",
    "plt.show()"
   ]
  },
  {
   "cell_type": "markdown",
   "id": "9cdbe557-3947-4c34-984c-55d82d82effe",
   "metadata": {},
   "source": [
    "## Analysis of Downtime Trends over Time"
   ]
  },
  {
   "cell_type": "markdown",
   "id": "708dbad7-7a4b-45f5-8d31-675fd1abeab0",
   "metadata": {},
   "source": [
    "#### Analysis Question 09: How Much Production Time Was Lost to Downtime in Total?"
   ]
  },
  {
   "cell_type": "code",
   "execution_count": 18,
   "id": "c5a6e744-c494-4a07-907f-6bc32fb91530",
   "metadata": {},
   "outputs": [
    {
     "name": "stdout",
     "output_type": "stream",
     "text": [
      "Total Downtime: 23.13 hours\n"
     ]
    }
   ],
   "source": [
    "# Total downtime\n",
    "total_downtime_minutes = df[\"minutes\"].sum()\n",
    "\n",
    "# Convert to hours\n",
    "total_downtime_hours = total_downtime_minutes / 60\n",
    "\n",
    "print(f\"Total Downtime: {total_downtime_hours:.2f} hours\")"
   ]
  },
  {
   "cell_type": "markdown",
   "id": "c5a095b4-d6c0-4633-a9d5-75e39b19dd7b",
   "metadata": {},
   "source": [
    "#### Analysis Question 10: How Does Downtime Vary by Work Shifts?"
   ]
  },
  {
   "cell_type": "code",
   "execution_count": 19,
   "id": "b85aefdb-50d9-4d32-b0d2-a59a860bac39",
   "metadata": {},
   "outputs": [
    {
     "name": "stdout",
     "output_type": "stream",
     "text": [
      "       shift  minutes\n",
      "0  Afternoon      584\n",
      "1    Morning      534\n",
      "2      Night      270\n"
     ]
    }
   ],
   "source": [
    "# Function to categorize shifts\n",
    "def categorize_shift(time):\n",
    "    hour = time.hour  # Directly access hour from datetime.time\n",
    "    if 6 <= hour < 14:\n",
    "        return \"Morning\"\n",
    "    elif 14 <= hour < 22:\n",
    "        return \"Afternoon\"\n",
    "    else:\n",
    "        return \"Night\"\n",
    "\n",
    "# Cast start time as datetime.time and apply shift categorization\n",
    "df[\"start_time\"] = df[\"start_time\"].apply(lambda x: datetime.strptime(x, \"%H:%M:%S\").time())\n",
    "df[\"shift\"] = df[\"start_time\"].apply(categorize_shift)\n",
    "\n",
    "# Group by Shift and sum downtime\n",
    "df_shift_downtime = df.groupby(\"shift\")[\"minutes\"].sum().reset_index()\n",
    "\n",
    "print(df_shift_downtime)"
   ]
  },
  {
   "cell_type": "code",
   "execution_count": 20,
   "id": "5f2acbdf-9a41-4b97-9d91-4f734f680def",
   "metadata": {},
   "outputs": [
    {
     "data": {
      "image/png": "[encoded data removed]",
      "text/plain": [
       "<Figure size 800x500 with 1 Axes>"
      ]
     },
     "metadata": {},
     "output_type": "display_data"
    }
   ],
   "source": [
    "# Set seaborn style\n",
    "sns.set_style(\"white\")\n",
    "\n",
    "# Plot the bar chart\n",
    "plt.figure(figsize=(8, 5))\n",
    "ax = sns.barplot(x=\"shift\", y=\"minutes\", data=df_shift_downtime, palette=\"Blues_r\", hue=\"shift\")\n",
    "\n",
    "# Add labels & title\n",
    "plt.xlabel(\"Shift\", fontsize=12)\n",
    "plt.ylabel(\"Total Downtime (Minutes)\", fontsize=12)\n",
    "plt.title(\"Total Downtime per Shift\", fontsize=14, fontweight=\"bold\")\n",
    "\n",
    "# Show the values on top of bars\n",
    "for p in ax.patches:  # ax.patches is a list of all bars in the bar chart\n",
    "    ax.annotate(f\"{int(p.get_height())}\", (p.get_x() + p.get_width() / 2, p.get_height()), #Positioning the Label\n",
    "                ha=\"center\", va=\"bottom\", fontsize=12, fontweight=\"bold\")\n",
    "\n",
    "plt.show()"
   ]
  },
  {
   "cell_type": "markdown",
   "id": "15b9ee00-9c2d-4601-a184-54965a9f2ccb",
   "metadata": {},
   "source": [
    "#### Analysis Question 11: How Does Total Downtime Vary over Time?"
   ]
  },
  {
   "cell_type": "code",
   "execution_count": 21,
   "id": "663dace1-06aa-4786-9247-8a1add736491",
   "metadata": {},
   "outputs": [
    {
     "data": {
      "text/html": [
       "<div>\n",
       "<style scoped>\n",
       "    .dataframe tbody tr th:only-of-type {\n",
       "        vertical-align: middle;\n",
       "    }\n",
       "\n",
       "    .dataframe tbody tr th {\n",
       "        vertical-align: top;\n",
       "    }\n",
       "\n",
       "    .dataframe thead th {\n",
       "        text-align: right;\n",
       "    }\n",
       "</style>\n",
       "<table border=\"1\" class=\"dataframe\">\n",
       "  <thead>\n",
       "    <tr style=\"text-align: right;\">\n",
       "      <th></th>\n",
       "      <th>date</th>\n",
       "      <th>minutes</th>\n",
       "    </tr>\n",
       "  </thead>\n",
       "  <tbody>\n",
       "    <tr>\n",
       "      <th>0</th>\n",
       "      <td>2024-08-29</td>\n",
       "      <td>244</td>\n",
       "    </tr>\n",
       "    <tr>\n",
       "      <th>1</th>\n",
       "      <td>2024-08-30</td>\n",
       "      <td>444</td>\n",
       "    </tr>\n",
       "    <tr>\n",
       "      <th>2</th>\n",
       "      <td>2024-08-31</td>\n",
       "      <td>165</td>\n",
       "    </tr>\n",
       "    <tr>\n",
       "      <th>3</th>\n",
       "      <td>2024-09-01</td>\n",
       "      <td>0</td>\n",
       "    </tr>\n",
       "    <tr>\n",
       "      <th>4</th>\n",
       "      <td>2024-09-02</td>\n",
       "      <td>503</td>\n",
       "    </tr>\n",
       "    <tr>\n",
       "      <th>5</th>\n",
       "      <td>2024-09-03</td>\n",
       "      <td>32</td>\n",
       "    </tr>\n",
       "  </tbody>\n",
       "</table>\n",
       "</div>"
      ],
      "text/plain": [
       "        date  minutes\n",
       "0 2024-08-29      244\n",
       "1 2024-08-30      444\n",
       "2 2024-08-31      165\n",
       "3 2024-09-01        0\n",
       "4 2024-09-02      503\n",
       "5 2024-09-03       32"
      ]
     },
     "execution_count": 21,
     "metadata": {},
     "output_type": "execute_result"
    }
   ],
   "source": [
    "grouped_date = df.groupby(\"date\")[\"minutes\"].sum()\n",
    "grouped_date = grouped_date.resample(\"D\").sum().fillna(0)\n",
    "grouped_date = grouped_date.reset_index()\n",
    "grouped_date"
   ]
  },
  {
   "cell_type": "code",
   "execution_count": 22,
   "id": "9eec2c69-61bb-4338-9321-6bd912276429",
   "metadata": {},
   "outputs": [
    {
     "data": {
      "image/png": "[encoded data removed]",
      "text/plain": [
       "<Figure size 700x500 with 1 Axes>"
      ]
     },
     "metadata": {},
     "output_type": "display_data"
    }
   ],
   "source": [
    "fig, ax = plt.subplots(figsize=(7, 5))\n",
    "\n",
    "xticks = np.arange(len(grouped_date))\n",
    "xlabels = grouped_date[\"date\"].dt.strftime(\"%d %b\")\n",
    "ax.plot(xticks, grouped_date[\"minutes\"], lw=2, marker=\"o\")\n",
    "ax.set_xticks(xticks)\n",
    "ax.set_xticklabels(xlabels, rotation=90)\n",
    "ax.set_xlabel(\"Date\", labelpad=10)\n",
    "ax.set_ylabel(\"Downtime (Minutes)\", labelpad=10)\n",
    "ax.spines[\"top\"].set_visible(False)\n",
    "ax.spines[\"right\"].set_visible(False)\n",
    "ax.set_title(\"Downtime Trend over Time\")\n",
    "ax.grid(True, which=\"major\", color=\"gray\", ls=\"--\", lw=0.5, alpha=0.5)\n",
    "\n",
    "for x in xticks:\n",
    "    ax.text(x + 0.15, grouped_date.loc[x, \"minutes\"], f\"{grouped_date.loc[x, 'minutes']}\", fontsize=8, ha=\"center\")\n",
    "\n",
    "plt.show()"
   ]
  },
  {
   "cell_type": "markdown",
   "id": "162a0c5a-58db-4ac3-bd37-a6d23179f717",
   "metadata": {},
   "source": [
    "## Analysis of Downtime Impact"
   ]
  },
  {
   "cell_type": "markdown",
   "id": "406a33f7-d479-4d32-931e-6f192cc5aa8a",
   "metadata": {},
   "source": [
    "#### Analysis Question 12: How Does Downtime Affect Batch Production Rate?"
   ]
  },
  {
   "cell_type": "code",
   "execution_count": 23,
   "id": "f004c6e4-81be-4bf7-adfd-5fd24abd0256",
   "metadata": {},
   "outputs": [
    {
     "data": {
      "text/html": [
       "<div>\n",
       "<style scoped>\n",
       "    .dataframe tbody tr th:only-of-type {\n",
       "        vertical-align: middle;\n",
       "    }\n",
       "\n",
       "    .dataframe tbody tr th {\n",
       "        vertical-align: top;\n",
       "    }\n",
       "\n",
       "    .dataframe thead th {\n",
       "        text-align: right;\n",
       "    }\n",
       "</style>\n",
       "<table border=\"1\" class=\"dataframe\">\n",
       "  <thead>\n",
       "    <tr style=\"text-align: right;\">\n",
       "      <th></th>\n",
       "      <th>batch</th>\n",
       "      <th>factor</th>\n",
       "      <th>minutes</th>\n",
       "      <th>operator</th>\n",
       "      <th>date</th>\n",
       "      <th>start_time</th>\n",
       "      <th>end_time</th>\n",
       "      <th>product</th>\n",
       "      <th>flavor</th>\n",
       "      <th>size_in_ml</th>\n",
       "      <th>size</th>\n",
       "      <th>min_batch_time</th>\n",
       "    </tr>\n",
       "  </thead>\n",
       "  <tbody>\n",
       "    <tr>\n",
       "      <th>0</th>\n",
       "      <td>422111</td>\n",
       "      <td>2.0</td>\n",
       "      <td>60.0</td>\n",
       "      <td>Mac</td>\n",
       "      <td>2024-08-29</td>\n",
       "      <td>11:50:00</td>\n",
       "      <td>14:05:00</td>\n",
       "      <td>OR-600</td>\n",
       "      <td>Orange</td>\n",
       "      <td>600</td>\n",
       "      <td>600</td>\n",
       "      <td>60</td>\n",
       "    </tr>\n",
       "    <tr>\n",
       "      <th>1</th>\n",
       "      <td>422111</td>\n",
       "      <td>7.0</td>\n",
       "      <td>15.0</td>\n",
       "      <td>Mac</td>\n",
       "      <td>2024-08-29</td>\n",
       "      <td>11:50:00</td>\n",
       "      <td>14:05:00</td>\n",
       "      <td>OR-600</td>\n",
       "      <td>Orange</td>\n",
       "      <td>600</td>\n",
       "      <td>600</td>\n",
       "      <td>60</td>\n",
       "    </tr>\n",
       "    <tr>\n",
       "      <th>2</th>\n",
       "      <td>422112</td>\n",
       "      <td>2.0</td>\n",
       "      <td>20.0</td>\n",
       "      <td>Mac</td>\n",
       "      <td>2024-08-29</td>\n",
       "      <td>14:05:00</td>\n",
       "      <td>15:45:00</td>\n",
       "      <td>LE-600</td>\n",
       "      <td>Lemon lime</td>\n",
       "      <td>600</td>\n",
       "      <td>600</td>\n",
       "      <td>60</td>\n",
       "    </tr>\n",
       "    <tr>\n",
       "      <th>3</th>\n",
       "      <td>422112</td>\n",
       "      <td>8.0</td>\n",
       "      <td>20.0</td>\n",
       "      <td>Mac</td>\n",
       "      <td>2024-08-29</td>\n",
       "      <td>14:05:00</td>\n",
       "      <td>15:45:00</td>\n",
       "      <td>LE-600</td>\n",
       "      <td>Lemon lime</td>\n",
       "      <td>600</td>\n",
       "      <td>600</td>\n",
       "      <td>60</td>\n",
       "    </tr>\n",
       "    <tr>\n",
       "      <th>4</th>\n",
       "      <td>422113</td>\n",
       "      <td>2.0</td>\n",
       "      <td>50.0</td>\n",
       "      <td>Mac</td>\n",
       "      <td>2024-08-29</td>\n",
       "      <td>15:45:00</td>\n",
       "      <td>17:35:00</td>\n",
       "      <td>LE-600</td>\n",
       "      <td>Lemon lime</td>\n",
       "      <td>600</td>\n",
       "      <td>600</td>\n",
       "      <td>60</td>\n",
       "    </tr>\n",
       "    <tr>\n",
       "      <th>...</th>\n",
       "      <td>...</td>\n",
       "      <td>...</td>\n",
       "      <td>...</td>\n",
       "      <td>...</td>\n",
       "      <td>...</td>\n",
       "      <td>...</td>\n",
       "      <td>...</td>\n",
       "      <td>...</td>\n",
       "      <td>...</td>\n",
       "      <td>...</td>\n",
       "      <td>...</td>\n",
       "      <td>...</td>\n",
       "    </tr>\n",
       "    <tr>\n",
       "      <th>59</th>\n",
       "      <td>422147</td>\n",
       "      <td>4.0</td>\n",
       "      <td>17.0</td>\n",
       "      <td>Charlie</td>\n",
       "      <td>2024-09-02</td>\n",
       "      <td>19:30:00</td>\n",
       "      <td>22:55:00</td>\n",
       "      <td>CO-2000</td>\n",
       "      <td>Cola</td>\n",
       "      <td>2000</td>\n",
       "      <td>2000</td>\n",
       "      <td>98</td>\n",
       "    </tr>\n",
       "    <tr>\n",
       "      <th>60</th>\n",
       "      <td>422147</td>\n",
       "      <td>6.0</td>\n",
       "      <td>60.0</td>\n",
       "      <td>Charlie</td>\n",
       "      <td>2024-09-02</td>\n",
       "      <td>19:30:00</td>\n",
       "      <td>22:55:00</td>\n",
       "      <td>CO-2000</td>\n",
       "      <td>Cola</td>\n",
       "      <td>2000</td>\n",
       "      <td>2000</td>\n",
       "      <td>98</td>\n",
       "    </tr>\n",
       "    <tr>\n",
       "      <th>61</th>\n",
       "      <td>422147</td>\n",
       "      <td>7.0</td>\n",
       "      <td>30.0</td>\n",
       "      <td>Charlie</td>\n",
       "      <td>2024-09-02</td>\n",
       "      <td>19:30:00</td>\n",
       "      <td>22:55:00</td>\n",
       "      <td>CO-2000</td>\n",
       "      <td>Cola</td>\n",
       "      <td>2000</td>\n",
       "      <td>2000</td>\n",
       "      <td>98</td>\n",
       "    </tr>\n",
       "    <tr>\n",
       "      <th>62</th>\n",
       "      <td>422148</td>\n",
       "      <td>4.0</td>\n",
       "      <td>25.0</td>\n",
       "      <td>Mac</td>\n",
       "      <td>2024-09-03</td>\n",
       "      <td>22:55:00</td>\n",
       "      <td>01:05:00</td>\n",
       "      <td>CO-2000</td>\n",
       "      <td>Cola</td>\n",
       "      <td>2000</td>\n",
       "      <td>2000</td>\n",
       "      <td>98</td>\n",
       "    </tr>\n",
       "    <tr>\n",
       "      <th>63</th>\n",
       "      <td>422148</td>\n",
       "      <td>8.0</td>\n",
       "      <td>7.0</td>\n",
       "      <td>Mac</td>\n",
       "      <td>2024-09-03</td>\n",
       "      <td>22:55:00</td>\n",
       "      <td>01:05:00</td>\n",
       "      <td>CO-2000</td>\n",
       "      <td>Cola</td>\n",
       "      <td>2000</td>\n",
       "      <td>2000</td>\n",
       "      <td>98</td>\n",
       "    </tr>\n",
       "  </tbody>\n",
       "</table>\n",
       "<p>64 rows × 12 columns</p>\n",
       "</div>"
      ],
      "text/plain": [
       "     batch  factor  minutes operator       date start_time  end_time  product  \\\n",
       "0   422111     2.0     60.0      Mac 2024-08-29   11:50:00  14:05:00   OR-600   \n",
       "1   422111     7.0     15.0      Mac 2024-08-29   11:50:00  14:05:00   OR-600   \n",
       "2   422112     2.0     20.0      Mac 2024-08-29   14:05:00  15:45:00   LE-600   \n",
       "3   422112     8.0     20.0      Mac 2024-08-29   14:05:00  15:45:00   LE-600   \n",
       "4   422113     2.0     50.0      Mac 2024-08-29   15:45:00  17:35:00   LE-600   \n",
       "..     ...     ...      ...      ...        ...        ...       ...      ...   \n",
       "59  422147     4.0     17.0  Charlie 2024-09-02   19:30:00  22:55:00  CO-2000   \n",
       "60  422147     6.0     60.0  Charlie 2024-09-02   19:30:00  22:55:00  CO-2000   \n",
       "61  422147     7.0     30.0  Charlie 2024-09-02   19:30:00  22:55:00  CO-2000   \n",
       "62  422148     4.0     25.0      Mac 2024-09-03   22:55:00  01:05:00  CO-2000   \n",
       "63  422148     8.0      7.0      Mac 2024-09-03   22:55:00  01:05:00  CO-2000   \n",
       "\n",
       "        flavor  size_in_ml  size  min_batch_time  \n",
       "0       Orange         600   600              60  \n",
       "1       Orange         600   600              60  \n",
       "2   Lemon lime         600   600              60  \n",
       "3   Lemon lime         600   600              60  \n",
       "4   Lemon lime         600   600              60  \n",
       "..         ...         ...   ...             ...  \n",
       "59        Cola        2000  2000              98  \n",
       "60        Cola        2000  2000              98  \n",
       "61        Cola        2000  2000              98  \n",
       "62        Cola        2000  2000              98  \n",
       "63        Cola        2000  2000              98  \n",
       "\n",
       "[64 rows x 12 columns]"
      ]
     },
     "execution_count": 23,
     "metadata": {},
     "output_type": "execute_result"
    }
   ],
   "source": [
    "merged = pd.merge(\n",
    "    left=tables[\"Line_downtime\"],\n",
    "    right=tables[\"Line_productivity\"],\n",
    "    on=\"Batch\",\n",
    "    how=\"outer\"\n",
    ")\n",
    "\n",
    "merged = merged.merge(\n",
    "    right=tables[\"Products\"],\n",
    "    on=\"Product\",\n",
    "    how=\"inner\"\n",
    ")\n",
    "\n",
    "merged = merged.merge(\n",
    "    right=tables[\"Product_details\"],\n",
    "    left_on=\"Size_In_ml\",\n",
    "    right_on=\"Size\",\n",
    "    how=\"inner\"\n",
    ").rename(columns=lambda x: x.lower().replace(\" \", \"_\"))\n",
    "\n",
    "merged = merged.fillna({\"minutes\": 0})\n",
    "merged"
   ]
  },
  {
   "cell_type": "code",
   "execution_count": 24,
   "id": "86f48667-9c23-40f2-bbeb-fa7a4768dd1b",
   "metadata": {},
   "outputs": [
    {
     "data": {
      "text/html": [
       "<div>\n",
       "<style scoped>\n",
       "    .dataframe tbody tr th:only-of-type {\n",
       "        vertical-align: middle;\n",
       "    }\n",
       "\n",
       "    .dataframe tbody tr th {\n",
       "        vertical-align: top;\n",
       "    }\n",
       "\n",
       "    .dataframe thead th {\n",
       "        text-align: right;\n",
       "    }\n",
       "</style>\n",
       "<table border=\"1\" class=\"dataframe\">\n",
       "  <thead>\n",
       "    <tr style=\"text-align: right;\">\n",
       "      <th></th>\n",
       "      <th>date</th>\n",
       "      <th>batch</th>\n",
       "      <th>minutes</th>\n",
       "      <th>start_time</th>\n",
       "      <th>end_time</th>\n",
       "      <th>min_batch_time</th>\n",
       "      <th>work_time</th>\n",
       "      <th>batches_per_hour</th>\n",
       "    </tr>\n",
       "  </thead>\n",
       "  <tbody>\n",
       "    <tr>\n",
       "      <th>0</th>\n",
       "      <td>2024-08-29</td>\n",
       "      <td>7</td>\n",
       "      <td>244.0</td>\n",
       "      <td>2024-08-29 11:50:00</td>\n",
       "      <td>2024-08-29 22:54:00</td>\n",
       "      <td>60.0</td>\n",
       "      <td>11.0</td>\n",
       "      <td>0.64</td>\n",
       "    </tr>\n",
       "    <tr>\n",
       "      <th>1</th>\n",
       "      <td>2024-08-30</td>\n",
       "      <td>12</td>\n",
       "      <td>444.0</td>\n",
       "      <td>2024-08-30 04:05:00</td>\n",
       "      <td>2024-08-30 23:29:00</td>\n",
       "      <td>60.0</td>\n",
       "      <td>19.0</td>\n",
       "      <td>0.63</td>\n",
       "    </tr>\n",
       "    <tr>\n",
       "      <th>2</th>\n",
       "      <td>2024-08-31</td>\n",
       "      <td>7</td>\n",
       "      <td>165.0</td>\n",
       "      <td>2024-08-31 07:45:00</td>\n",
       "      <td>2024-08-31 17:30:00</td>\n",
       "      <td>60.0</td>\n",
       "      <td>10.0</td>\n",
       "      <td>0.70</td>\n",
       "    </tr>\n",
       "    <tr>\n",
       "      <th>3</th>\n",
       "      <td>2024-09-02</td>\n",
       "      <td>11</td>\n",
       "      <td>503.0</td>\n",
       "      <td>2024-09-02 01:00:00</td>\n",
       "      <td>2024-09-02 22:55:00</td>\n",
       "      <td>77.1</td>\n",
       "      <td>22.0</td>\n",
       "      <td>0.50</td>\n",
       "    </tr>\n",
       "    <tr>\n",
       "      <th>4</th>\n",
       "      <td>2024-09-03</td>\n",
       "      <td>1</td>\n",
       "      <td>32.0</td>\n",
       "      <td>2024-09-03 22:55:00</td>\n",
       "      <td>2024-09-03 01:05:00</td>\n",
       "      <td>98.0</td>\n",
       "      <td>2.0</td>\n",
       "      <td>0.50</td>\n",
       "    </tr>\n",
       "  </tbody>\n",
       "</table>\n",
       "</div>"
      ],
      "text/plain": [
       "        date  batch  minutes          start_time            end_time  \\\n",
       "0 2024-08-29      7    244.0 2024-08-29 11:50:00 2024-08-29 22:54:00   \n",
       "1 2024-08-30     12    444.0 2024-08-30 04:05:00 2024-08-30 23:29:00   \n",
       "2 2024-08-31      7    165.0 2024-08-31 07:45:00 2024-08-31 17:30:00   \n",
       "3 2024-09-02     11    503.0 2024-09-02 01:00:00 2024-09-02 22:55:00   \n",
       "4 2024-09-03      1     32.0 2024-09-03 22:55:00 2024-09-03 01:05:00   \n",
       "\n",
       "   min_batch_time  work_time  batches_per_hour  \n",
       "0            60.0       11.0              0.64  \n",
       "1            60.0       19.0              0.63  \n",
       "2            60.0       10.0              0.70  \n",
       "3            77.1       22.0              0.50  \n",
       "4            98.0        2.0              0.50  "
      ]
     },
     "execution_count": 24,
     "metadata": {},
     "output_type": "execute_result"
    }
   ],
   "source": [
    "aggregated_df = merged.groupby(\"date\", as_index=False).agg({\n",
    "    \"batch\": \"nunique\",\n",
    "    \"minutes\": \"sum\",\n",
    "    \"start_time\": \"min\",\n",
    "    \"end_time\": \"max\",\n",
    "    \"min_batch_time\": \"mean\"  # for use in next question\n",
    "})\n",
    "\n",
    "aggregated_df[\"start_time\"] = pd.to_datetime(aggregated_df[\"date\"].astype(str) + \" \" + aggregated_df[\"start_time\"].astype(str))\n",
    "aggregated_df[\"end_time\"] = pd.to_datetime(aggregated_df[\"date\"].astype(str) + \" \" + aggregated_df[\"end_time\"].astype(str))\n",
    "aggregated_df[\"work_time\"] = (aggregated_df[\"end_time\"] - aggregated_df[\"start_time\"]).dt.total_seconds() / 3600\n",
    "aggregated_df[\"work_time\"] = aggregated_df[\"work_time\"].apply(lambda x: x + 24 if x < 0 else x).round(0)\n",
    "aggregated_df[\"batches_per_hour\"] = (aggregated_df[\"batch\"] / aggregated_df[\"work_time\"]).round(2)\n",
    "aggregated_df"
   ]
  },
  {
   "cell_type": "code",
   "execution_count": 25,
   "id": "a9a39326-5591-4181-90c1-722e9bf1eea4",
   "metadata": {},
   "outputs": [
    {
     "data": {
      "image/png": "[encoded data removed]",
      "text/plain": [
       "<Figure size 500x500 with 1 Axes>"
      ]
     },
     "metadata": {},
     "output_type": "display_data"
    }
   ],
   "source": [
    "fig, ax = plt.subplots(figsize=(5, 5))\n",
    "\n",
    "ax.scatter(aggregated_df[\"minutes\"], aggregated_df[\"batches_per_hour\"])\n",
    "ax.set_xlabel(\"Downtime (Minutes)\", labelpad=10)\n",
    "ax.set_ylabel(\"Production Rate (Batches per Hour)\", labelpad=10)\n",
    "ax.set_title(\"Impact of Downtime on Production Rate\")\n",
    "ax.spines[\"top\"].set_visible(False)\n",
    "ax.spines[\"right\"].set_visible(False)\n",
    "\n",
    "plt.show()"
   ]
  },
  {
   "cell_type": "markdown",
   "id": "ec5ab6e2-d41d-4e15-9a25-8a93ceab3f7f",
   "metadata": {},
   "source": [
    "## Further Exploration"
   ]
  },
  {
   "cell_type": "markdown",
   "id": "a489408e-e8e1-480a-84d2-8f089fd34996",
   "metadata": {},
   "source": [
    "#### Does Any of the Operators Cause More Downtime Due to Machine Adjustment than the Others?"
   ]
  },
  {
   "cell_type": "code",
   "execution_count": 26,
   "id": "2c882946-0591-41f9-bcb4-5c74987f8ef0",
   "metadata": {},
   "outputs": [
    {
     "data": {
      "text/plain": [
       "operator\n",
       "Charlie    118\n",
       "Dee         79\n",
       "Dennis     120\n",
       "Mac         15\n",
       "Name: minutes, dtype: int64"
      ]
     },
     "execution_count": 26,
     "metadata": {},
     "output_type": "execute_result"
    }
   ],
   "source": [
    "# Filter data\n",
    "machine_adjustment_df = df[df[\"factor\"] == 6]\n",
    "\n",
    "# Aggregate downtime by Operators\n",
    "machine_adjustment_df.groupby(\"operator\")[\"minutes\"].sum()"
   ]
  },
  {
   "cell_type": "markdown",
   "id": "2fbdaca3-02f6-456a-93b3-e459d149f224",
   "metadata": {},
   "source": [
    "#### Does Downtime from Inventory Shortage Occur for Products with Specific Flavors?"
   ]
  },
  {
   "cell_type": "code",
   "execution_count": 28,
   "id": "132bcc12-8875-4bc3-8c06-3d88fd48c5f0",
   "metadata": {},
   "outputs": [
    {
     "data": {
      "text/plain": [
       "flavor\n",
       "Cola          771\n",
       "Diet Cola     115\n",
       "Lemon lime    169\n",
       "Orange         75\n",
       "Root Berry    258\n",
       "Name: minutes, dtype: int64"
      ]
     },
     "execution_count": 28,
     "metadata": {},
     "output_type": "execute_result"
    }
   ],
   "source": [
    "# Aggregation of total downtime by each flavor\n",
    "flavors = df.groupby(\"flavor\")[\"minutes\"].sum()\n",
    "flavors"
   ]
  },
  {
   "cell_type": "code",
   "execution_count": 29,
   "id": "e88bc8c0-be6f-4991-ad2c-ce7b55103312",
   "metadata": {},
   "outputs": [
    {
     "data": {
      "text/plain": [
       "flavor\n",
       "Cola          150\n",
       "Diet Cola      30\n",
       "Lemon lime     25\n",
       "Root Berry     20\n",
       "Name: minutes, dtype: int64"
      ]
     },
     "execution_count": 29,
     "metadata": {},
     "output_type": "execute_result"
    }
   ],
   "source": [
    "# Filter data\n",
    "inv_short_df = df[df[\"factor\"] == 4]\n",
    "\n",
    "# Aggregate downtime by flavors\n",
    "inv_short_df = inv_short_df.groupby(\"flavor\")[\"minutes\"].sum()\n",
    "inv_short_df"
   ]
  },
  {
   "cell_type": "code",
   "execution_count": 30,
   "id": "d8620d59-b36b-45a3-ac89-1cd65deac95c",
   "metadata": {},
   "outputs": [
    {
     "data": {
      "text/plain": [
       "flavor\n",
       "Cola          19.46\n",
       "Diet Cola     26.09\n",
       "Lemon lime    14.79\n",
       "Orange         0.00\n",
       "Root Berry     7.75\n",
       "Name: minutes, dtype: float64"
      ]
     },
     "execution_count": 30,
     "metadata": {},
     "output_type": "execute_result"
    }
   ],
   "source": [
    "# Downtime from inventory shortage in each flavor as a percent of total downtime in the flavor\n",
    "(inv_short_df * 100 / flavors).fillna(0).round(2)"
   ]
  },
  {
   "cell_type": "code",
   "execution_count": 31,
   "id": "f67a0d9e-2876-4c35-a2d4-6a49b8e18881",
   "metadata": {},
   "outputs": [
    {
     "data": {
      "text/plain": [
       "flavor\n",
       "Cola          66.67\n",
       "Diet Cola     13.33\n",
       "Lemon lime    11.11\n",
       "Root Berry     8.89\n",
       "Name: minutes, dtype: float64"
      ]
     },
     "execution_count": 31,
     "metadata": {},
     "output_type": "execute_result"
    }
   ],
   "source": [
    "# Downtime due to inventory shortage for each flavor relative to total downtime from inventory shortage\n",
    "inv_short_relative = (inv_short_df * 100 / inv_short_df.sum()).round(2)\n",
    "inv_short_relative"
   ]
  },
  {
   "cell_type": "code",
   "execution_count": 32,
   "id": "e375eae2-cae7-49c1-a9e0-7ba5b7bfb4a4",
   "metadata": {},
   "outputs": [
    {
     "name": "stdout",
     "output_type": "stream",
     "text": [
      "Downtime due to inventory shortage in cola-flavored products: 80.0%\n"
     ]
    }
   ],
   "source": [
    "cola = inv_short_relative[\"Cola\"] + inv_short_relative[\"Diet Cola\"]\n",
    "print(f\"Downtime due to inventory shortage in cola-flavored products: {cola}%\")"
   ]
  },
  {
   "cell_type": "markdown",
   "id": "4fa9ee85-8a65-4a13-9091-ebbac545f3be",
   "metadata": {},
   "source": [
    "#### Which Operator Causes More Downtime Due to Batch Changes?"
   ]
  },
  {
   "cell_type": "code",
   "execution_count": 33,
   "id": "88085908-1540-439c-aea8-abd38f0b512d",
   "metadata": {},
   "outputs": [
    {
     "data": {
      "text/plain": [
       "operator\n",
       "Charlie     10\n",
       "Dee         20\n",
       "Mac        130\n",
       "Name: minutes, dtype: int64"
      ]
     },
     "execution_count": 33,
     "metadata": {},
     "output_type": "execute_result"
    }
   ],
   "source": [
    "# Filter data\n",
    "batch_change_df = df[df[\"factor\"] == 2]\n",
    "\n",
    "# Aggregate by operators\n",
    "batch_change_df.groupby(\"operator\")[\"minutes\"].sum()"
   ]
  },
  {
   "cell_type": "markdown",
   "id": "2448e524-8197-4e6d-b7ff-0b55426b00ce",
   "metadata": {},
   "source": [
    "#### Does Downtime Due to Batch Change Occur with Specific Flavors?"
   ]
  },
  {
   "cell_type": "code",
   "execution_count": 34,
   "id": "dc0ca7e7-011d-48d0-b311-6fd1d8698bac",
   "metadata": {},
   "outputs": [
    {
     "data": {
      "text/plain": [
       "flavor\n",
       "Cola          20\n",
       "Lemon lime    80\n",
       "Orange        60\n",
       "Name: minutes, dtype: int64"
      ]
     },
     "execution_count": 34,
     "metadata": {},
     "output_type": "execute_result"
    }
   ],
   "source": [
    "batch_change_flavor = batch_change_df.groupby(\"flavor\")[\"minutes\"].sum()\n",
    "batch_change_flavor"
   ]
  },
  {
   "cell_type": "code",
   "execution_count": 35,
   "id": "88cddb57-2e88-46fa-9956-6c5ccfff4aa6",
   "metadata": {},
   "outputs": [
    {
     "data": {
      "text/plain": [
       "flavor\n",
       "Cola          12.5\n",
       "Lemon lime    50.0\n",
       "Orange        37.5\n",
       "Name: minutes, dtype: float64"
      ]
     },
     "execution_count": 35,
     "metadata": {},
     "output_type": "execute_result"
    }
   ],
   "source": [
    "# As a percent of total\n",
    "(batch_change_flavor * 100 / batch_change_flavor.sum()).round(2)"
   ]
  },
  {
   "cell_type": "markdown",
   "id": "8cf933bf-b37a-4b69-87e6-5b034c08a53d",
   "metadata": {},
   "source": [
    "87.5% of the downtime due to batch change occurs with products that are not cola-flavored. This might indicate that cola products are produced more frequently and downtime due to batch change occurs when swtiching to products with a different flavor."
   ]
  },
  {
   "cell_type": "code",
   "execution_count": 36,
   "id": "a756f412-0c4a-48dc-97cf-42dccdb17183",
   "metadata": {},
   "outputs": [
    {
     "data": {
      "text/html": [
       "<div>\n",
       "<style scoped>\n",
       "    .dataframe tbody tr th:only-of-type {\n",
       "        vertical-align: middle;\n",
       "    }\n",
       "\n",
       "    .dataframe tbody tr th {\n",
       "        vertical-align: top;\n",
       "    }\n",
       "\n",
       "    .dataframe thead th {\n",
       "        text-align: right;\n",
       "    }\n",
       "</style>\n",
       "<table border=\"1\" class=\"dataframe\">\n",
       "  <thead>\n",
       "    <tr style=\"text-align: right;\">\n",
       "      <th></th>\n",
       "      <th>count</th>\n",
       "      <th>relative_freq</th>\n",
       "    </tr>\n",
       "    <tr>\n",
       "      <th>Flavor</th>\n",
       "      <th></th>\n",
       "      <th></th>\n",
       "    </tr>\n",
       "  </thead>\n",
       "  <tbody>\n",
       "    <tr>\n",
       "      <th>Cola</th>\n",
       "      <td>20</td>\n",
       "      <td>52.63</td>\n",
       "    </tr>\n",
       "    <tr>\n",
       "      <th>Root Berry</th>\n",
       "      <td>7</td>\n",
       "      <td>18.42</td>\n",
       "    </tr>\n",
       "    <tr>\n",
       "      <th>Lemon lime</th>\n",
       "      <td>6</td>\n",
       "      <td>15.79</td>\n",
       "    </tr>\n",
       "    <tr>\n",
       "      <th>Diet Cola</th>\n",
       "      <td>4</td>\n",
       "      <td>10.53</td>\n",
       "    </tr>\n",
       "    <tr>\n",
       "      <th>Orange</th>\n",
       "      <td>1</td>\n",
       "      <td>2.63</td>\n",
       "    </tr>\n",
       "  </tbody>\n",
       "</table>\n",
       "</div>"
      ],
      "text/plain": [
       "            count  relative_freq\n",
       "Flavor                          \n",
       "Cola           20          52.63\n",
       "Root Berry      7          18.42\n",
       "Lemon lime      6          15.79\n",
       "Diet Cola       4          10.53\n",
       "Orange          1           2.63"
      ]
     },
     "execution_count": 36,
     "metadata": {},
     "output_type": "execute_result"
    }
   ],
   "source": [
    "# Frequency distribution of product flavors\n",
    "flavor_freq = pd.merge(\n",
    "    left=tables[\"Line_productivity\"],\n",
    "    right=tables[\"Products\"],\n",
    "    on=\"Product\",\n",
    "    how=\"inner\"\n",
    ")[\"Flavor\"].value_counts().reset_index()\n",
    "flavor_freq[\"relative_freq\"] = (flavor_freq[\"count\"] * 100 / flavor_freq[\"count\"].sum()).round(2)\n",
    "flavor_freq.set_index(\"Flavor\", inplace=True)\n",
    "flavor_freq"
   ]
  },
  {
   "cell_type": "code",
   "execution_count": 37,
   "id": "aabf5a79-fa25-4976-ac6e-749aa7407793",
   "metadata": {},
   "outputs": [
    {
     "name": "stdout",
     "output_type": "stream",
     "text": [
      "63.16% of the batches produced were cola-flavored.\n"
     ]
    }
   ],
   "source": [
    "percent = (flavor_freq.loc[\"Cola\", \"relative_freq\"] + flavor_freq.loc[\"Diet Cola\", \"relative_freq\"]).round(2)\n",
    "print(f\"{percent}% of the batches produced were cola-flavored.\")"
   ]
  },
  {
   "cell_type": "markdown",
   "id": "2a5575b6-7d92-48c5-ab74-56892c635754",
   "metadata": {},
   "source": [
    "This shows that the cola flavor is consistently produced and propably switched to less often."
   ]
  },
  {
   "cell_type": "markdown",
   "id": "6e6f32ac-ab83-430d-be4e-d052c0587929",
   "metadata": {},
   "source": [
    "#### Which Operator Causes More Downtime Due to Batch Coding Errors?"
   ]
  },
  {
   "cell_type": "code",
   "execution_count": 38,
   "id": "89b585d6-9338-4b18-8c5a-aaf1383ad7ee",
   "metadata": {},
   "outputs": [
    {
     "data": {
      "text/plain": [
       "operator\n",
       "Charlie    44\n",
       "Dee        30\n",
       "Dennis     24\n",
       "Mac        47\n",
       "Name: minutes, dtype: int64"
      ]
     },
     "execution_count": 38,
     "metadata": {},
     "output_type": "execute_result"
    }
   ],
   "source": [
    "# Filter data\n",
    "batch_coding_df = df[df[\"factor\"] == 8]\n",
    "\n",
    "# Aggregate downtime by operator\n",
    "batch_coding_df.groupby(\"operator\")[\"minutes\"].sum()"
   ]
  }
 ],
 "metadata": {
  "kernelspec": {
   "display_name": "Python 3 (ipykernel)",
   "language": "python",
   "name": "python3"
  },
  "language_info": {
   "codemirror_mode": {
    "name": "ipython",
    "version": 3
   },
   "file_extension": ".py",
   "mimetype": "text/x-python",
   "name": "python",
   "nbconvert_exporter": "python",
   "pygments_lexer": "ipython3",
   "version": "3.13.1"
  }
 },
 "nbformat": 4,
 "nbformat_minor": 5
}
